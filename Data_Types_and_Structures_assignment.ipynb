{
  "nbformat": 4,
  "nbformat_minor": 0,
  "metadata": {
    "colab": {
      "provenance": []
    },
    "kernelspec": {
      "name": "python3",
      "display_name": "Python 3"
    },
    "language_info": {
      "name": "python"
    }
  },
  "cells": [
    {
      "cell_type": "markdown",
      "source": [
        "# **1. What are data structures, and why are they important?**\n",
        ">> Data structure are used to store tha data in organised way.It make easy to access the day data and manipulate the data. Data structure are list,tuple,set,dictionary.\n",
        ">>\n",
        ">> Important:\n",
        ">>\n",
        "\n",
        ">> 1.In this all data found in one memory block.\n",
        ">> 2. In this accessibilty make manipulate the data very easy.\n"
      ],
      "metadata": {
        "id": "yGvYub44TSsP"
      }
    },
    {
      "cell_type": "markdown",
      "source": [
        "# **2.Explain the difference between mutable and immutable data types with examples?**\n",
        ">> Mutable data types: In this data type any object is created and we can change/modifying the date.\n",
        ">>1.In this many operation can be done\n",
        ">>\n",
        ">>2. In this value of the object can be changed.\n",
        ">>\n",
        ">> 3.list,set,dictionary are the example of the mutable datatypes.\n",
        ">>\n",
        ">>Imutable data type: In this data type any object and value can't be changed after it creation.\n",
        ">> 1.In this no operation can be done.\n",
        ">>\n",
        ">> 2.In this value of the object can't be changed.\n",
        ">>\n",
        ">> 3.tuple,string,integer are the example of imutable datatype.\n"
      ],
      "metadata": {
        "id": "ikzMQbP8U1lq"
      }
    },
    {
      "cell_type": "markdown",
      "source": [
        "# **3.What are the main differences between lists and tuples in Python?**\n",
        ">> The main difference between **list** and **tuple** is the list is mutable data type where tuple is imutable data type.\n",
        ">>\n",
        ">> In list data store temporary because it main purpose is the update or modify the data.\n",
        ">>\n",
        ">>In tuple data store is permanently because it main purpose is store the permanent and never update."
      ],
      "metadata": {
        "id": "IwFXM47oWpWf"
      }
    },
    {
      "cell_type": "markdown",
      "source": [
        "# **4. Describe how dictionaries store data?**\n",
        ">> Dictionaries is the data structure that store the data in key value pairs.Keys are unique .It is mutable in nature."
      ],
      "metadata": {
        "id": "st112mj3Yg06"
      }
    },
    {
      "cell_type": "markdown",
      "source": [
        "# **5.Why might you use a set instead of a list in Python?**\n",
        ">> List is the ordered pair of elements.It gives the duplicate items from the list where set is unordered pair of elements.It gives the unique element from the set.It does not give the duplicate elements.This the main purpose set is used for the instead of a list."
      ],
      "metadata": {
        "id": "fxIa9nuQZRCV"
      }
    },
    {
      "cell_type": "markdown",
      "source": [
        "# **6.What is a string in Python, and how is it different from a list?**\n",
        ">> **String:** It is the sequence of character enclosed with quotes.It is always written the double or triple quotes.\n",
        ">>\n",
        ">>> How is differ :\n",
        ">> string is the data type and written in the quotes Where List is the data structure that store the data in oraganised manner and make easy to access and manipulate it. It always written in square bracket.It is mutable."
      ],
      "metadata": {
        "id": "WNhLb5FOaLWn"
      }
    },
    {
      "cell_type": "markdown",
      "source": [
        "# **7.How do tuples ensure data integrity in Python?**\n",
        ">>> Tuple is the ordered pair of element .It is imutable.It can store the data permanently no update can be happend. By this following reason we can say that in tuple no object/data value can't be changed it is found same .That'why tuple ensure data intergrity in python."
      ],
      "metadata": {
        "id": "2yyklotvbyKL"
      }
    },
    {
      "cell_type": "markdown",
      "source": [
        "# **8. What is a hash table, and how does it relate to dictionaries in python ?**\n",
        ">> **Hash table** A hash table is a data structure that stores key–value pairs and uses a hash function to quickly map a key to a location (index) in memory where its value is stored.\n",
        ">>\n",
        ">> It relate to dictonary because it also store the in key value pair.\n",
        ">> Key must be hashable(Immutable)\n",
        ">> value can be changed.\n",
        "\n"
      ],
      "metadata": {
        "id": "gGO1ymgNdDos"
      }
    },
    {
      "cell_type": "markdown",
      "source": [
        "# **9.Can lists contain different data types in Python?**\n",
        ">> list can be stored the heterogenous data.In list all type of data can be store.Data can be integer,string,bool,float,complex.\n"
      ],
      "metadata": {
        "id": "N2DFkOR_edC-"
      }
    },
    {
      "cell_type": "markdown",
      "source": [
        "# **10. Explain why strings are immutable in Python?**\n",
        ">> String is immutable data type . When a string is created no update and no change can be done.\n",
        ">> String is used in many data structure so one value can be changed it disturb the whole data structure that's why srting is immutable.\n"
      ],
      "metadata": {
        "id": "-HtxdRb2e7p3"
      }
    },
    {
      "cell_type": "markdown",
      "source": [
        "# **11.What advantages do dictionaries offer over lists for certain tasks?**\n",
        ">> Dictionary is the data structure that store the data in key value pairs.\n",
        ">>\n",
        ">> Dictonary is offer many advantages than list.\n",
        ">>\n",
        ">> 1. All the element can be accessed using keys.\n",
        ">> 2. All the element can be accessed by values.\n",
        ">> 3. No need  remember the index.\n",
        ">> 4. All the accessing can be done by keys.\n",
        ">> 5. It store the data like table column."
      ],
      "metadata": {
        "id": "kQXqmv67gh3U"
      }
    },
    {
      "cell_type": "markdown",
      "source": [
        "# **12.Describe a scenario where using a tuple would be preferable over a list?**\n",
        ">> Tuple is store the data permanently and no updata or change can be done.It is immutable data type\n",
        "\n",
        ">>> Tuple is better by following reason.\n",
        ">>\n",
        ">> Data should not change – Coordinates represent a fixed point; using a tuple prevents accidental modification.\n",
        "\n",
        "Hashable – Tuples (if they only contain immutable items) can be used as dictionary keys or set elements\n",
        "\n",
        "Slight performance advantage – Tuples are a bit faster to access and smaller in memory than lists, which can matter in large datasets.\n",
        "\n"
      ],
      "metadata": {
        "id": "j4_vNlkciO3l"
      }
    },
    {
      "cell_type": "markdown",
      "source": [],
      "metadata": {
        "id": "lyetqU1dZItj"
      }
    },
    {
      "cell_type": "markdown",
      "source": [
        "# **13.How do sets handle duplicate values in Python?**\n",
        ">> Set is a unordered pair of elements.It can't follow any order in set elements. It gives the uique elements/Items from the sets. It does not gives duplicate elements.Python gives implicit function sets to handle the duplicate value.\n"
      ],
      "metadata": {
        "id": "cnpqRgKajl8E"
      }
    },
    {
      "cell_type": "markdown",
      "source": [
        "# **14.How does the “in” keyword work differently for lists and dictionaries?**\n",
        ">> In List we check the elements in the value eg \"Rahul\" in list1 where\n",
        "\n",
        ">> In dictonary we check the key in the dict. eg \"Name\" in dict1.\n",
        "\n"
      ],
      "metadata": {
        "id": "pYkU_AK_lKty"
      }
    },
    {
      "cell_type": "markdown",
      "source": [
        "# **15.Can you modify the elements of a tuple? Explain why or why not?**\n",
        ">> NO Tuple cannot be modify.Because tuple is a immutable data type .When we created object in tuple we can't be change or modify the tuple.It is used to store the data permantely.In our government portal tuple data structure is used."
      ],
      "metadata": {
        "id": "QWmqb4NwmABY"
      }
    },
    {
      "cell_type": "markdown",
      "source": [
        "**16. What is a nested dictionary, and give an example of its use case?**\n",
        ">>A nested dictionary in Python is a dictionary where one or more values are themselves dictionaries.\n",
        "It’s used to store data in a hierarchical or multi-level structure.\n",
        ">> It is used in databases\n",
        ">> It is show the configration of complex problem."
      ],
      "metadata": {
        "id": "EPQjzknXngf4"
      }
    },
    {
      "cell_type": "markdown",
      "source": [
        "# **17. Describe the time complexity of accessing elements in a dictionary?**\n",
        ">> Complexity of accessing element in a dictionary is average 0(1)."
      ],
      "metadata": {
        "id": "5C3XykgyoauG"
      }
    },
    {
      "cell_type": "markdown",
      "source": [
        "# **18.In what situations are lists preferred over dictionaries?**\n",
        ">> List is ordered pairs of elements. It is follow the indexing.\n",
        "\n",
        ">> **List is preffered over dictionaries by following reason.**\n",
        ">>1. when order is matter.\n",
        ">>2. When we use indexing only.\n",
        ">>3. when we required sequential data."
      ],
      "metadata": {
        "id": "L0elyNOgpALY"
      }
    },
    {
      "cell_type": "markdown",
      "source": [
        "# **19.Why are dictionaries considered unordered, and how does that affect data retrieval?**\n",
        "\n",
        "Dictionaries are considered unordered because historically (before Python 3.7) they did not guarantee that items would be stored or iterated in the same order you inserted them.\n",
        "\n",
        "Why unordered\n",
        "A dictionary is implemented as a hash table, and keys are stored based on their hash value, not their insertion position.\n",
        "\n",
        "Hashing scatters items across memory to allow O(1) average-time access.\n",
        "\n",
        "This means the internal storage order could change:\n",
        "\n",
        "when you insert new items\n",
        "\n",
        "when the dictionary resizes\n",
        "\n",
        "depending on hash function behavior\n",
        "\n"
      ],
      "metadata": {
        "id": "ARmkHc7LqSxg"
      }
    },
    {
      "cell_type": "markdown",
      "source": [
        "# **20.Explain the difference between a list and a dictionary in terms of data retrieval.**\n",
        "The main difference between a list and a dictionary in terms of data retrieval comes down to how you access elements and how fast it is.\n",
        "\n",
        "List → Access by position (index)\n",
        "\n",
        "You must know the integer index of the element.\n",
        "\n",
        "Dictionary → Access by key\n",
        "\n",
        "You retrieve the value using a descriptive, hashable key (e.g., string, number, tuple).\n",
        "\n",
        "\n"
      ],
      "metadata": {
        "id": "ts1GOr8inzGp"
      }
    },
    {
      "cell_type": "markdown",
      "source": [
        "**Practical Questions**"
      ],
      "metadata": {
        "id": "GplCwLpfr9nC"
      }
    },
    {
      "cell_type": "code",
      "source": [
        "# 1. Write a code to create a string with your name and print it?\n",
        "name=\"Umesh Yadav\"\n",
        "print(name)"
      ],
      "metadata": {
        "id": "EC_R4CzEsH2N",
        "outputId": "c8084b21-3a87-4e41-a110-6268d02e49ea",
        "colab": {
          "base_uri": "https://localhost:8080/"
        }
      },
      "execution_count": 2,
      "outputs": [
        {
          "output_type": "stream",
          "name": "stdout",
          "text": [
            "Umesh Yadav\n"
          ]
        }
      ]
    },
    {
      "cell_type": "code",
      "source": [
        "#2. Write a code to find the length of the string \"Hello World\".\n",
        "a=\"Hello World\"\n",
        "print(len(a))"
      ],
      "metadata": {
        "id": "NLZCXAY_sbeG",
        "outputId": "da3bd70e-e812-4d14-9f59-9fc66fa3d72e",
        "colab": {
          "base_uri": "https://localhost:8080/"
        }
      },
      "execution_count": 3,
      "outputs": [
        {
          "output_type": "stream",
          "name": "stdout",
          "text": [
            "11\n"
          ]
        }
      ]
    },
    {
      "cell_type": "code",
      "source": [
        "#3.Write a code to slice the first 3 characters from the string \"Python Programming\"\n",
        "a=\"Python Programming\"\n",
        "print(a[0:3])"
      ],
      "metadata": {
        "id": "vnhjSwAdsoZq",
        "outputId": "4bb602f0-baec-43c5-bb83-c813fe5fb748",
        "colab": {
          "base_uri": "https://localhost:8080/"
        }
      },
      "execution_count": 4,
      "outputs": [
        {
          "output_type": "stream",
          "name": "stdout",
          "text": [
            "Pyt\n"
          ]
        }
      ]
    },
    {
      "cell_type": "code",
      "source": [
        "#4.Write a code to convert the string \"hello\" to uppercase.\n",
        "a=\"hello\"\n",
        "print(a.upper())"
      ],
      "metadata": {
        "id": "zKCvNAvis5DF",
        "outputId": "3edf6b48-e123-4956-9d88-dbd544f5e058",
        "colab": {
          "base_uri": "https://localhost:8080/"
        }
      },
      "execution_count": 5,
      "outputs": [
        {
          "output_type": "stream",
          "name": "stdout",
          "text": [
            "HELLO\n"
          ]
        }
      ]
    },
    {
      "cell_type": "code",
      "source": [
        "#5.Write a code to replace the word \"apple\" with \"orange\" in the string \"I like apple\".\n",
        "a=\"apple\"\n",
        "print(a.replace(\"apple\",\"orange\"))\n",
        "#"
      ],
      "metadata": {
        "id": "baBVbKnJtNBX",
        "outputId": "7ef20dfd-b28f-4d50-e85c-a4f6d57a4243",
        "colab": {
          "base_uri": "https://localhost:8080/"
        }
      },
      "execution_count": 6,
      "outputs": [
        {
          "output_type": "stream",
          "name": "stdout",
          "text": [
            "orange\n"
          ]
        }
      ]
    },
    {
      "cell_type": "code",
      "source": [
        "#6. Write a code to create a list with numbers 1 to 5 and print it.\n",
        "a=[1,2,3,4,5]\n",
        "print(a)"
      ],
      "metadata": {
        "id": "KoWa-cmFth-F",
        "outputId": "dbc31dcb-8f75-4371-b4fa-cd960c3533e4",
        "colab": {
          "base_uri": "https://localhost:8080/"
        }
      },
      "execution_count": 7,
      "outputs": [
        {
          "output_type": "stream",
          "name": "stdout",
          "text": [
            "[1, 2, 3, 4, 5]\n"
          ]
        }
      ]
    },
    {
      "cell_type": "code",
      "source": [
        "#7.Write a code to append the number 10 to the list [1, 2, 3, 4].\n",
        "a=[1,2,3,4]\n",
        "a.append(10)\n",
        "print(a)"
      ],
      "metadata": {
        "id": "_NOUA5_7tvy-",
        "outputId": "450c435f-c822-44d0-86d0-d1be84131733",
        "colab": {
          "base_uri": "https://localhost:8080/"
        }
      },
      "execution_count": 8,
      "outputs": [
        {
          "output_type": "stream",
          "name": "stdout",
          "text": [
            "[1, 2, 3, 4, 10]\n"
          ]
        }
      ]
    },
    {
      "cell_type": "code",
      "source": [
        "#8.Write a code to remove the number 3 from the list [1, 2, 3, 4, 5].\n",
        "a=[1,2,3,4,5]\n",
        "a.remove(3)\n",
        "print(a)"
      ],
      "metadata": {
        "id": "06NP_GQkt-5s",
        "outputId": "ebf5dde8-9140-4392-e4a8-547cfea9b17a",
        "colab": {
          "base_uri": "https://localhost:8080/"
        }
      },
      "execution_count": 9,
      "outputs": [
        {
          "output_type": "stream",
          "name": "stdout",
          "text": [
            "[1, 2, 4, 5]\n"
          ]
        }
      ]
    },
    {
      "cell_type": "code",
      "source": [
        "#9.Write a code to access the second element in the list ['a', 'b', 'c', 'd'].\n",
        "a=['a','b','c','d']\n",
        "print(a[1])"
      ],
      "metadata": {
        "id": "peWr0Gj6uWHE",
        "outputId": "631ebb1a-1171-4d0d-84d3-5e5d513eb5fd",
        "colab": {
          "base_uri": "https://localhost:8080/"
        }
      },
      "execution_count": 11,
      "outputs": [
        {
          "output_type": "stream",
          "name": "stdout",
          "text": [
            "b\n"
          ]
        }
      ]
    },
    {
      "cell_type": "code",
      "source": [
        "#10.Write a code to reverse the list [10, 20, 30, 40, 50].\n",
        "a=[10,20,30,40,50]\n",
        "a.reverse()\n",
        "print(a)"
      ],
      "metadata": {
        "id": "O1stp2Zgump1",
        "outputId": "d3027a88-e75d-47ee-ae29-f0745685bf21",
        "colab": {
          "base_uri": "https://localhost:8080/"
        }
      },
      "execution_count": 12,
      "outputs": [
        {
          "output_type": "stream",
          "name": "stdout",
          "text": [
            "[50, 40, 30, 20, 10]\n"
          ]
        }
      ]
    },
    {
      "cell_type": "code",
      "source": [
        "#10.Write a code to reverse the list [10, 20, 30, 40, 50].\n",
        "a=[10,20,30,40,50]\n",
        "print(a[::-1])"
      ],
      "metadata": {
        "id": "JfjwFphwu1P2",
        "outputId": "1487d9b2-cd31-4d2f-f541-1f4fffa44799",
        "colab": {
          "base_uri": "https://localhost:8080/"
        }
      },
      "execution_count": 13,
      "outputs": [
        {
          "output_type": "stream",
          "name": "stdout",
          "text": [
            "[50, 40, 30, 20, 10]\n"
          ]
        }
      ]
    },
    {
      "cell_type": "code",
      "source": [
        "#11 Write a code to create a tuple with the elements 100, 200, 300 and print it.\n",
        "a=(100,200,300)\n",
        "print(a)"
      ],
      "metadata": {
        "id": "kKAV13IcvBkl",
        "outputId": "088ecd94-04cd-4c27-9a8e-774b53fc41dc",
        "colab": {
          "base_uri": "https://localhost:8080/"
        }
      },
      "execution_count": 14,
      "outputs": [
        {
          "output_type": "stream",
          "name": "stdout",
          "text": [
            "(100, 200, 300)\n"
          ]
        }
      ]
    },
    {
      "cell_type": "code",
      "source": [
        "#12.Write a code to access the second-to-last element of the tuple ('red', 'green', 'blue', 'yellow').\n",
        "a=('red','green','blue','yellow')\n",
        "print(a[-2::+1])\n"
      ],
      "metadata": {
        "id": "EWBpQAFTvOWk",
        "outputId": "ab5d2a59-40ea-46ac-892e-6a7511a82cf5",
        "colab": {
          "base_uri": "https://localhost:8080/"
        }
      },
      "execution_count": 16,
      "outputs": [
        {
          "output_type": "stream",
          "name": "stdout",
          "text": [
            "('blue', 'yellow')\n"
          ]
        }
      ]
    },
    {
      "cell_type": "code",
      "source": [
        "#13. Write a code to find the minimum number in the tuple (10, 20, 5, 15).\n",
        "a=(10,20,5,15)\n",
        "min_number=min(a)\n",
        "print(\"Minimum number in the tuple\",min_number)\n",
        "\n"
      ],
      "metadata": {
        "id": "4SvJNhLsvlCa",
        "outputId": "0ea7ecec-6ec7-4616-b119-7d51058e518f",
        "colab": {
          "base_uri": "https://localhost:8080/"
        }
      },
      "execution_count": 29,
      "outputs": [
        {
          "output_type": "stream",
          "name": "stdout",
          "text": [
            "Minimum number in the tuple 5\n"
          ]
        }
      ]
    },
    {
      "cell_type": "code",
      "source": [
        "#14. Write a code to find the index of the element \"cat\" in the tuple ('dog', 'cat', 'rabbit').\n",
        "a=('dog','cat','rabbit')\n",
        "print(a.index('cat'))"
      ],
      "metadata": {
        "id": "cEWGSNHiwA1B",
        "outputId": "008ef91a-3398-42bf-8402-b8292ebb8f83",
        "colab": {
          "base_uri": "https://localhost:8080/"
        }
      },
      "execution_count": 22,
      "outputs": [
        {
          "output_type": "stream",
          "name": "stdout",
          "text": [
            "1\n"
          ]
        }
      ]
    },
    {
      "cell_type": "code",
      "source": [
        "#15.Write a code to create a tuple containing three different fruits and check if \"kiwi\" is in it.\n",
        "a= (\"Apple\",\"Litchi\",\"kiwi\")\n",
        "if \"kiwi\" in a :\n",
        "  print(\"The fruit is found in the tuple\")\n",
        "else:\n",
        "  print(\"The fruit is not found\")"
      ],
      "metadata": {
        "id": "H6zx6UUtwpHZ",
        "outputId": "ba06a348-a2c6-477a-ba48-c1df26b539e8",
        "colab": {
          "base_uri": "https://localhost:8080/"
        }
      },
      "execution_count": 30,
      "outputs": [
        {
          "output_type": "stream",
          "name": "stdout",
          "text": [
            "The fruit is found in the tuple\n"
          ]
        }
      ]
    },
    {
      "cell_type": "code",
      "source": [
        "#16Write a code to create a set with the elements 'a', 'b', 'c' and print it.\n",
        "a={'a','b','c'}\n",
        "print(a)"
      ],
      "metadata": {
        "id": "QipzSjjkxRMR",
        "outputId": "b26897f9-88b4-4720-cfd7-2cf4ed45b946",
        "colab": {
          "base_uri": "https://localhost:8080/"
        }
      },
      "execution_count": 31,
      "outputs": [
        {
          "output_type": "stream",
          "name": "stdout",
          "text": [
            "{'c', 'b', 'a'}\n"
          ]
        }
      ]
    },
    {
      "cell_type": "code",
      "source": [
        "#17. Write a code to clear all elements from the set {1, 2, 3, 4, 5}.\n",
        "a={1,2,3,4,5}\n",
        "a.clear()\n",
        "print(a)"
      ],
      "metadata": {
        "id": "EWeLJiPlyuyf",
        "outputId": "a2f1d3c8-8a8b-4dfc-d028-41d9b17bbb76",
        "colab": {
          "base_uri": "https://localhost:8080/"
        }
      },
      "execution_count": 32,
      "outputs": [
        {
          "output_type": "stream",
          "name": "stdout",
          "text": [
            "set()\n"
          ]
        }
      ]
    },
    {
      "cell_type": "code",
      "source": [
        "#18.Write a code to remove the element 4 from the set {1, 2, 3, 4}.\n",
        "a={1,2,3,4}\n",
        "a.remove(4)\n",
        "print(a)"
      ],
      "metadata": {
        "id": "VqCIH_t-y4Ly",
        "outputId": "3110d976-50bd-4172-ffea-13d0d25651b4",
        "colab": {
          "base_uri": "https://localhost:8080/"
        }
      },
      "execution_count": 33,
      "outputs": [
        {
          "output_type": "stream",
          "name": "stdout",
          "text": [
            "{1, 2, 3}\n"
          ]
        }
      ]
    },
    {
      "cell_type": "code",
      "source": [
        "#19. Write a code to find the union of two sets {1, 2, 3} and {3, 4, 5}.\n",
        "a={1,2,3}\n",
        "b={3,4,5}\n",
        "print(a.union(b))\n",
        "#print(a|b)"
      ],
      "metadata": {
        "id": "7OLXtqNCzAoV",
        "outputId": "7872baaa-0346-4c1c-ace7-4654455928b2",
        "colab": {
          "base_uri": "https://localhost:8080/"
        }
      },
      "execution_count": 35,
      "outputs": [
        {
          "output_type": "stream",
          "name": "stdout",
          "text": [
            "{1, 2, 3, 4, 5}\n"
          ]
        }
      ]
    },
    {
      "cell_type": "code",
      "source": [
        "#20. Write a code to find the intersection of two sets {1, 2, 3} and {2, 3, 4}.\n",
        "a={1,2,3}\n",
        "b={2,3,4}\n",
        "print(a.intersection(b))\n",
        "#print(a&b)"
      ],
      "metadata": {
        "id": "X6X-EgitzNgh",
        "outputId": "82417744-995b-43e7-af41-fba36cfa289b",
        "colab": {
          "base_uri": "https://localhost:8080/"
        }
      },
      "execution_count": 36,
      "outputs": [
        {
          "output_type": "stream",
          "name": "stdout",
          "text": [
            "{2, 3}\n"
          ]
        }
      ]
    },
    {
      "cell_type": "code",
      "source": [
        "#21.Write a code to create a dictionary with the keys \"name\", \"age\", and \"city\", and print it.\n",
        "a={\"Name\":\"Umesh\",\"Age\":21,\"City\":\"Bhiwani\"}\n",
        "print(a)"
      ],
      "metadata": {
        "id": "xhBpXXRjzd4r",
        "outputId": "33e6c114-0940-4021-afe6-72c4812205dc",
        "colab": {
          "base_uri": "https://localhost:8080/"
        }
      },
      "execution_count": 39,
      "outputs": [
        {
          "output_type": "stream",
          "name": "stdout",
          "text": [
            "{'Name': 'Umesh', 'Age': 21, 'City': 'Bhiwani'}\n"
          ]
        }
      ]
    },
    {
      "cell_type": "code",
      "source": [
        "# 22.Write a code to add a new key-value pair \"country\": \"USA\" to the dictionary {'name': 'John', 'age': 25}.\n",
        "a[\"Country\"]=\"USA\"\n",
        "print(a)"
      ],
      "metadata": {
        "id": "pu-Hk77i0A-_",
        "outputId": "70de4ff4-0989-459d-ab9c-4a2e74693bfd",
        "colab": {
          "base_uri": "https://localhost:8080/"
        }
      },
      "execution_count": 40,
      "outputs": [
        {
          "output_type": "stream",
          "name": "stdout",
          "text": [
            "{'Name': 'Umesh', 'Age': 21, 'City': 'Bhiwani', 'Country': 'USA'}\n"
          ]
        }
      ]
    },
    {
      "cell_type": "code",
      "source": [
        "#23. Write a code to access the value associated with the key \"name\" in the dictionary {'name': 'Alice', 'age': 30}.\n",
        "b=a[\"Name\"]\n",
        "print(b)"
      ],
      "metadata": {
        "id": "NVHXZo4p0ygG",
        "outputId": "8861d837-bb56-4107-e2eb-29bfce5d3f1e",
        "colab": {
          "base_uri": "https://localhost:8080/"
        }
      },
      "execution_count": 43,
      "outputs": [
        {
          "output_type": "stream",
          "name": "stdout",
          "text": [
            "Umesh\n"
          ]
        }
      ]
    },
    {
      "cell_type": "code",
      "source": [
        "#24. Write a code to remove the key \"age\" from the dictionary {'name': 'Bob', 'age': 22, 'city': 'New York'}.\n",
        "a.pop(\"Age\")\n"
      ],
      "metadata": {
        "id": "s5VaZw5c0_lA",
        "outputId": "aac4484d-6120-4079-fccb-d436f060ca74",
        "colab": {
          "base_uri": "https://localhost:8080/"
        }
      },
      "execution_count": 45,
      "outputs": [
        {
          "output_type": "execute_result",
          "data": {
            "text/plain": [
              "21"
            ]
          },
          "metadata": {},
          "execution_count": 45
        }
      ]
    },
    {
      "cell_type": "code",
      "source": [
        "print(a)"
      ],
      "metadata": {
        "id": "B9s0rr5O1kIf",
        "outputId": "c9744efa-44ba-43af-95db-9c4d9519ec50",
        "colab": {
          "base_uri": "https://localhost:8080/"
        }
      },
      "execution_count": 46,
      "outputs": [
        {
          "output_type": "stream",
          "name": "stdout",
          "text": [
            "{'Name': 'Umesh', 'City': 'Bhiwani', 'Country': 'USA'}\n"
          ]
        }
      ]
    },
    {
      "cell_type": "code",
      "source": [
        "#25.. Write a code to check if the key \"city\" exists in the dictionary {'name': 'Alice', 'city': 'Paris'}.\n",
        "if \"City\"in a:\n",
        "  print(\"The city is found\")\n",
        "else:\n",
        "  print(\"The city is not found\")"
      ],
      "metadata": {
        "id": "5G8rUrgb1rqX",
        "outputId": "127e645a-693f-4ccc-df91-fbd1f976ae43",
        "colab": {
          "base_uri": "https://localhost:8080/"
        }
      },
      "execution_count": 47,
      "outputs": [
        {
          "output_type": "stream",
          "name": "stdout",
          "text": [
            "The city is found\n"
          ]
        }
      ]
    },
    {
      "cell_type": "code",
      "source": [
        "#26.Write a code to create a list, a tuple, and a dictionary, and print them all.\n",
        "a={\"Name\":\"Umesh\",\"Age\":21,\"City\":\"Bhiwani\"}\n",
        "b=[1,1,33,\"Ram\",3+5j]\n",
        "c=(\"rohan\",22,63.22,\"komal\")\n",
        "print(a)\n",
        "print(b)\n",
        "print(c)"
      ],
      "metadata": {
        "id": "wfKV-10M2L0G",
        "outputId": "c58d8ac2-0f7d-4ef5-ebf3-1441b051cfa6",
        "colab": {
          "base_uri": "https://localhost:8080/"
        }
      },
      "execution_count": 48,
      "outputs": [
        {
          "output_type": "stream",
          "name": "stdout",
          "text": [
            "{'Name': 'Umesh', 'Age': 21, 'City': 'Bhiwani'}\n",
            "[1, 1, 33, 'Ram', (3+5j)]\n",
            "('rohan', 22, 63.22, 'komal')\n"
          ]
        }
      ]
    },
    {
      "cell_type": "code",
      "source": [
        "#27. Write a code to create a list of 5 random numbers between 1 and 100, sort it in ascending order, and print the result.(replaced).\n",
        "a=[10,80,13,5,31]\n",
        "a.sort()\n",
        "print(a)"
      ],
      "metadata": {
        "id": "sFxZCQxX2178",
        "outputId": "60629415-04a1-43bd-a269-6a93e0651696",
        "colab": {
          "base_uri": "https://localhost:8080/"
        }
      },
      "execution_count": 55,
      "outputs": [
        {
          "output_type": "stream",
          "name": "stdout",
          "text": [
            "[5, 10, 13, 31, 80]\n"
          ]
        }
      ]
    },
    {
      "cell_type": "code",
      "source": [
        "# 2nd method\n",
        "import random\n",
        "\n",
        "# Create a list of 5 random numbers between 1 and 100\n",
        "numbers = [random.randint(1, 100) for _ in range(5)]\n",
        "\n",
        "# Sort the list in ascending order\n",
        "numbers.sort()\n",
        "\n",
        "# Output\n",
        "print(\"Sorted list:\", numbers)\n"
      ],
      "metadata": {
        "id": "CepJPbN13ukM",
        "outputId": "2091d98e-80b5-4b5a-8ed7-91f88956acca",
        "colab": {
          "base_uri": "https://localhost:8080/"
        }
      },
      "execution_count": 54,
      "outputs": [
        {
          "output_type": "stream",
          "name": "stdout",
          "text": [
            "Sorted list: [19, 46, 59, 72, 81]\n"
          ]
        }
      ]
    },
    {
      "cell_type": "code",
      "source": [
        "#28.Write a code to create a list with strings and print the element at the third index.\n",
        "a=[\"apple\",\"mango\",\"banana\",\"Grapes\"]\n",
        "print(a[2])"
      ],
      "metadata": {
        "id": "nE8EfFmO4uEU",
        "outputId": "b45318ad-eac9-4d2e-afe0-4e176001349f",
        "colab": {
          "base_uri": "https://localhost:8080/"
        }
      },
      "execution_count": 56,
      "outputs": [
        {
          "output_type": "stream",
          "name": "stdout",
          "text": [
            "banana\n"
          ]
        }
      ]
    },
    {
      "cell_type": "code",
      "source": [
        "#29 Write a code to combine two dictionaries into one and print the result.\n",
        "a={\"Name\":\"Umesh\",\"Age\":21,\"City\":\"Bhiwani\"}\n",
        "b={\"Address\":\"Vpo dinod\",\"Contact_No.\":258624}\n",
        "c=a|b\n",
        "print(\"Combination of two dic\",c)"
      ],
      "metadata": {
        "id": "LPzyMgas5Lu9",
        "outputId": "edf4cc02-5b6a-4a44-978b-a20d03a6f257",
        "colab": {
          "base_uri": "https://localhost:8080/"
        }
      },
      "execution_count": 58,
      "outputs": [
        {
          "output_type": "stream",
          "name": "stdout",
          "text": [
            "Combination of two dic {'Name': 'Umesh', 'Age': 21, 'City': 'Bhiwani', 'Address': 'Vpo dinod', 'Contact_No.': 258624}\n"
          ]
        }
      ]
    },
    {
      "cell_type": "code",
      "source": [
        "#30 Write a code to convert a list of strings into a set.\n",
        "a=[\"Hello\",\"456\",\"412\"]\n",
        "b=set(a)\n",
        "print(b)"
      ],
      "metadata": {
        "id": "zt6URlT5_iG6",
        "outputId": "fb353bb5-84c1-4f8e-f2f0-ce2b2d95bac8",
        "colab": {
          "base_uri": "https://localhost:8080/"
        }
      },
      "execution_count": 59,
      "outputs": [
        {
          "output_type": "stream",
          "name": "stdout",
          "text": [
            "{'Hello', '456', '412'}\n"
          ]
        }
      ]
    },
    {
      "cell_type": "code",
      "source": [],
      "metadata": {
        "id": "uYRotHWwELWf"
      },
      "execution_count": null,
      "outputs": []
    }
  ]
}