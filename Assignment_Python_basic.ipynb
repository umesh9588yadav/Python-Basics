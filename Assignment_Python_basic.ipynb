{
  "nbformat": 4,
  "nbformat_minor": 0,
  "metadata": {
    "colab": {
      "provenance": []
    },
    "kernelspec": {
      "name": "python3",
      "display_name": "Python 3"
    },
    "language_info": {
      "name": "python"
    }
  },
  "cells": [
    {
      "cell_type": "markdown",
      "source": [
        "# **What is pyhton,and why is it popular?**\n",
        "Python is a high-level and interpreted programming language.It is dynamicaly language.It is widely used in data science,data analysis ,automation,Artificial intelligence and machine learning.It contains huge variety of libaries.(like pandas,numpy,matplotlib,seaborn).It contains a oop concept."
      ],
      "metadata": {
        "id": "m0-K-eZTP53A"
      }
    },
    {
      "cell_type": "markdown",
      "source": [
        "# **2.What is an interpreter in python?**\n",
        "Python is an interpreted language.In this block of code is run line by line .In the execution time when errors is found it stuck on specific line.Interpreter is very time consuming because it read a block of code line by line."
      ],
      "metadata": {
        "id": "j7aoQY-wREu6"
      }
    },
    {
      "cell_type": "markdown",
      "source": [
        "# **3.What are pre-defined keywords in python?**\n",
        "Keywords= Keywords are predefined words and symbol that used for special purpose.In python language has decided many keywords for the special purpose.Keywords are def,for,while,import,none,True,False,if,else,try,finaly,class,for and ,or ,is ,in etc."
      ],
      "metadata": {
        "id": "XOOb2vFySn_N"
      }
    },
    {
      "cell_type": "markdown",
      "source": [
        "# **4.Can keywords be used as variable name?**\n",
        "No keywords never used as variable.Because python interpreter can't recognized the variable."
      ],
      "metadata": {
        "id": "TFlWMbQuUHkO"
      }
    },
    {
      "cell_type": "markdown",
      "source": [
        "# **5.What is mutability in python?**\n",
        "Mutability is defined as the object's value changed after it is created.\n",
        "list,dictionary is the example of mutability."
      ],
      "metadata": {
        "id": "pnFezL20UrVr"
      }
    },
    {
      "cell_type": "markdown",
      "source": [
        "## **6.Why list are mutable but tuple is not mutable?**\n",
        "list is the example of mutable . in list many operation can be done after it is created but tuple is not mutable. In tuple after creation no value can be changed.List used for changing data collection .\n",
        "Tuple is used for fixed the data."
      ],
      "metadata": {
        "id": "oKSt_7DHVdNU"
      }
    },
    {
      "cell_type": "markdown",
      "source": [
        "# **7.What is the difference between \"==\" and is operators in python?**\n",
        "\n",
        "1.   \"==\" 1 This is for the compare the eqaulity between two variables.\n",
        "          2. It is an comparision operators.\n",
        "2.   \"is\" 1. it is used for both variable are same.for example a=5\n",
        "              b=5\n",
        "              a is b\n",
        "\n",
        "          2. it is an identity operator.\n",
        "          3. when both variable is equal then both value is store in same memory block.\n",
        "\n"
      ],
      "metadata": {
        "id": "EDtr8SLpWk8k"
      }
    },
    {
      "cell_type": "markdown",
      "source": [
        "# ***8.What are logical operator?***\n",
        "logical operator are used to combine the conditional statements.It is gives the in the form of True and False.\n",
        "Logical operators are 1.AND 2. OR 3.NOT\n",
        "1.And operators= It check both condition is true.\n",
        "2.Or operators= it check either one condition is true.\n",
        "3.Not = it gives the always opposite results."
      ],
      "metadata": {
        "id": "IawKQP1LYQP5"
      }
    },
    {
      "cell_type": "markdown",
      "source": [
        "# 9.**What is typecasting in pyhon ?**\n",
        "Typecasting (or a type conversion) means converting a one data type to another data type.(integer to float,float to integer).\n",
        "\n",
        "Typecastinf is two type.\n",
        "1.Implicit\n",
        "2.Explicit"
      ],
      "metadata": {
        "id": "Bb0sluvSZdKx"
      }
    },
    {
      "cell_type": "markdown",
      "source": [
        "## **10.What is difference between implicit and explicit typecasting in python?**\n",
        "Implicit typecasting=1.In python one data type is change automatically without user involvement.\n",
        "2. It decide the data type according to its value.\n",
        "Explicit typecasting= 1. When we change one data type to another data type according to user is known as explicit typecasting.\n",
        "2.In this user is decide the data type according its preference.\n",
        "3.In this entire control of user."
      ],
      "metadata": {
        "id": "qir099sDavjr"
      }
    },
    {
      "cell_type": "markdown",
      "source": [
        "# **11.What is the purpose of conditional satetments in python?**\n",
        "Conditional statements are used to make a decision in your code according to their certain condition.In this entire block of code is follow the certain condition.\n",
        "There three conditional statements are  used in python\n",
        "1.IF 2. Elif  2.Else"
      ],
      "metadata": {
        "id": "6lV31nFFcwW-"
      }
    },
    {
      "cell_type": "markdown",
      "source": [
        "# **12. How does the elif statements Works?**\n",
        "whenever a block of code contains a certains condition . when if statements is not follow /not true then elif statements are come in their role after elif statement is run.\n",
        "In a code multiple elif statements are used."
      ],
      "metadata": {
        "id": "I9xeWhqZd6Gs"
      }
    },
    {
      "cell_type": "markdown",
      "source": [
        "# **13.What is difference between for loop and while loops?**\n",
        "For loop =\n",
        "It is used when you know how many time you want to run your block of code.\n",
        "It iterates over a Sequence (list,string,range)\n",
        "\n",
        "While loop =\n",
        "It is used when the number of iteration is unknown.(In this we can't know how many times our block of code is run)\n",
        "It is runs when the specific condition is not true."
      ],
      "metadata": {
        "id": "GbsAknU6UE4a"
      }
    },
    {
      "cell_type": "markdown",
      "source": [
        "# **14.Describe a scenario where a while loop is more suitable than a for loop.**\n",
        "While loop is more suitable then for loop when a block of code or iteration we don't know how many time our code is run.\n",
        "The number of iterations is not predetermined.\n",
        "\n",
        "The loop should continue based on a condition being true, not a count.\n",
        "\n"
      ],
      "metadata": {
        "id": "4i8O7vdphGoY"
      }
    },
    {
      "cell_type": "code",
      "execution_count": 1,
      "metadata": {
        "colab": {
          "base_uri": "https://localhost:8080/"
        },
        "id": "tp88VJ1LPlls",
        "outputId": "66fa70ec-cca5-41c4-f15f-2989e9d0b713"
      },
      "outputs": [
        {
          "output_type": "stream",
          "name": "stdout",
          "text": [
            "Hello, World!\n"
          ]
        }
      ],
      "source": [
        "# 1. Write a Python program to print \"Hello, World!\n",
        "print(\"Hello, World!\")\n"
      ]
    },
    {
      "cell_type": "markdown",
      "source": [],
      "metadata": {
        "id": "Ap4kQVthP32p"
      }
    },
    {
      "cell_type": "code",
      "source": [
        "# 2. Write a Python program that displays your name and age?\n",
        "name=input(\"Enter your name\")\n",
        "age=int(input(\"Enter your age\"))\n",
        "print(name)\n",
        "print(age)"
      ],
      "metadata": {
        "colab": {
          "base_uri": "https://localhost:8080/"
        },
        "id": "78KlmPsXiCfA",
        "outputId": "8c401fad-6f1f-4644-8350-ae20fc2a47b2"
      },
      "execution_count": 2,
      "outputs": [
        {
          "output_type": "stream",
          "name": "stdout",
          "text": [
            "Enter your nameUmesh\n",
            "Enter your age20\n",
            "Umesh\n",
            "20\n"
          ]
        }
      ]
    },
    {
      "cell_type": "code",
      "source": [
        "# 3.Write code to print all the pre-defined keywords in Python using the keyword library.\n",
        "import keyword\n",
        "print(keyword.kwlist)\n"
      ],
      "metadata": {
        "colab": {
          "base_uri": "https://localhost:8080/"
        },
        "id": "gDys4LtEiWov",
        "outputId": "b3ad47b0-4a68-4659-b27b-24429deb424c"
      },
      "execution_count": 3,
      "outputs": [
        {
          "output_type": "stream",
          "name": "stdout",
          "text": [
            "['False', 'None', 'True', 'and', 'as', 'assert', 'async', 'await', 'break', 'class', 'continue', 'def', 'del', 'elif', 'else', 'except', 'finally', 'for', 'from', 'global', 'if', 'import', 'in', 'is', 'lambda', 'nonlocal', 'not', 'or', 'pass', 'raise', 'return', 'try', 'while', 'with', 'yield']\n"
          ]
        }
      ]
    },
    {
      "cell_type": "code",
      "source": [
        "#4. Write a program that checks if a given word is a Python keyword.\n",
        "import keyword\n",
        "word=input(\"Enter a word\")\n",
        "if keyword.iskeyword(word):\n",
        "  print(word,\"is a keyword\")\n",
        "else:\n",
        "  print(word,\"is not a keyword\")"
      ],
      "metadata": {
        "colab": {
          "base_uri": "https://localhost:8080/"
        },
        "id": "gtwh04uzioUc",
        "outputId": "a3737e55-1838-4008-8f96-cc6bfe9366a0"
      },
      "execution_count": 5,
      "outputs": [
        {
          "output_type": "stream",
          "name": "stdout",
          "text": [
            "Enter a wordFalse\n",
            "False is a keyword\n"
          ]
        }
      ]
    },
    {
      "cell_type": "code",
      "source": [
        "#5. Create a list and tuple in Python, and demonstrate how attempting to change an element works differently for each\n",
        "my_list=[\"Hello\",558,\"Rohan\",525,411,23,\"Ram\"]\n",
        "my_tuple=(\"Hello\",558,\"Rohan\",525,411,23,\"Ram\")\n",
        "print(my_list.append(87))\n",
        "my_list.remove(\"Rohan\")\n",
        "my_list.append(8555)\n",
        "my_list.insert(2,1305)\n",
        "my_list.pop()\n",
        "print(my_list)\n",
        "print(my_tuple)\n",
        "\n"
      ],
      "metadata": {
        "colab": {
          "base_uri": "https://localhost:8080/"
        },
        "id": "21x9547Lkwvr",
        "outputId": "3bd39a79-e891-4a48-e14f-255654aba042"
      },
      "execution_count": 21,
      "outputs": [
        {
          "output_type": "stream",
          "name": "stdout",
          "text": [
            "None\n",
            "['Hello', 558, 1305, 525, 411, 23, 'Ram', 87]\n",
            "('Hello', 558, 'Rohan', 525, 411, 23, 'Ram')\n"
          ]
        }
      ]
    },
    {
      "cell_type": "code",
      "source": [
        "#6. Write a function to demonstrate the behavior of mutable and immutable arguments.\n",
        "#Mutable = After creation value can be changed\n",
        "list1=[\"Rohan\",\"Umesh\",25,7866,12,9,3,\"Ram\"]\n",
        "list1.append(855)\n",
        "list1.remove(\"Rohan\")\n",
        "list1.insert(3,13044)\n",
        "list1.pop()\n",
        "list1.reverse()\n",
        "print(list1)\n",
        "#Not Mutable after creation no value can be change\n",
        "my_tuple=(\"Hello\",558,\"Rohan\",525,411,23,\"Ram\")\n",
        "print(my_tuple)\n"
      ],
      "metadata": {
        "colab": {
          "base_uri": "https://localhost:8080/"
        },
        "id": "EubylPxImzC5",
        "outputId": "b8a69e04-dd26-4948-85c2-35d8ec7c1a2a"
      },
      "execution_count": 25,
      "outputs": [
        {
          "output_type": "stream",
          "name": "stdout",
          "text": [
            "['Ram', 3, 9, 12, 13044, 7866, 25, 'Umesh']\n",
            "('Hello', 558, 'Rohan', 525, 411, 23, 'Ram')\n"
          ]
        }
      ]
    },
    {
      "cell_type": "code",
      "source": [
        "#7. Write a program that performs basic arithmetic operations on two user-input numbers.\n",
        "a=int(input(\"Enter a number\"))\n",
        "b=int(input(\"Enter a number\"))\n",
        "print(a+b)\n",
        "print(a-b)\n",
        "print(a*b)\n",
        "print(a/b)\n",
        "print(a%b)\n",
        "print(a//b)\n",
        "print(a**b)"
      ],
      "metadata": {
        "colab": {
          "base_uri": "https://localhost:8080/"
        },
        "id": "Nqja-xl2oz-W",
        "outputId": "36d215d9-76f1-4fc4-d146-4d75856d4048"
      },
      "execution_count": 27,
      "outputs": [
        {
          "output_type": "stream",
          "name": "stdout",
          "text": [
            "Enter a number45\n",
            "Enter a number22\n",
            "67\n",
            "23\n",
            "990\n",
            "2.0454545454545454\n",
            "1\n",
            "2\n",
            "2347876792391803819849491119384765625\n"
          ]
        }
      ]
    },
    {
      "cell_type": "code",
      "source": [
        "#8. Write a program to demonstrate the use of logical operators.\n",
        "x=int(input(\"Enter a number :\"))\n",
        "y=int(input(\"Enter a number :\"))\n",
        "#logical and\n",
        "if x>0 and y>0:\n",
        "  print(\"Both numbers are positive\")\n",
        "else:\n",
        "  print(\"At least one number is not positive\")\n",
        "#logical or\n",
        "if x>0 or y>0:\n",
        "  print(\"At least one number is positive\")\n",
        "else:\n",
        "  print(\"Both numbers are not positive\")\n",
        "#logical not\n",
        "print(not(x>0))"
      ],
      "metadata": {
        "colab": {
          "base_uri": "https://localhost:8080/"
        },
        "id": "my02SULvphp6",
        "outputId": "39d3606a-0ef5-4da4-b4e6-eb6af7a25da6"
      },
      "execution_count": 30,
      "outputs": [
        {
          "output_type": "stream",
          "name": "stdout",
          "text": [
            "Enter a number :1\n",
            "Enter a number :1\n",
            "Both numbers are positive\n",
            "At least one number is positive\n",
            "False\n"
          ]
        }
      ]
    },
    {
      "cell_type": "code",
      "source": [
        "#9. Write a Python program to convert user input from string to integer, float, and boolean types.\n",
        "x=input(\"Enter a number:\")\n",
        "print(type(x))\n",
        "b=int(x)\n",
        "print(b)\n",
        "print(type(b))\n",
        "c=float(b)\n",
        "print(c)\n",
        "print(type(c))\n",
        "d=bool(c)\n",
        "print(d)"
      ],
      "metadata": {
        "colab": {
          "base_uri": "https://localhost:8080/"
        },
        "id": "HN6PLu1EqyzC",
        "outputId": "643fbd8f-042b-4f97-a4c7-e983230cc8b1"
      },
      "execution_count": 31,
      "outputs": [
        {
          "output_type": "stream",
          "name": "stdout",
          "text": [
            "Enter a number:45\n",
            "<class 'str'>\n",
            "45\n",
            "<class 'int'>\n",
            "45.0\n",
            "<class 'float'>\n",
            "True\n"
          ]
        }
      ]
    },
    {
      "cell_type": "code",
      "source": [
        "#10. Write code to demonstrate type casting with list elements.\n",
        "# Original list of strings (e.g., user input)\n",
        "str_list = [\"10\", \"20\", \"30\", \"40\"]\n",
        "\n",
        "# Convert to integers using list comprehension\n",
        "int_list = [int(item) for item in str_list]\n",
        "print(\"Integer list:\", int_list)\n",
        "\n",
        "# Convert to floats\n",
        "float_list = [float(item) for item in str_list]\n",
        "print(\"Float list:\", float_list)\n",
        "\n",
        "# Convert integers back to strings\n",
        "string_again = [str(item) for item in int_list]\n",
        "print(\"String list again:\", string_again)\n"
      ],
      "metadata": {
        "colab": {
          "base_uri": "https://localhost:8080/"
        },
        "id": "eiTkO9mSv_ZD",
        "outputId": "ab93d9b9-ac96-4560-888b-6a198eea916b"
      },
      "execution_count": 34,
      "outputs": [
        {
          "output_type": "stream",
          "name": "stdout",
          "text": [
            "Integer list: [10, 20, 30, 40]\n",
            "Float list: [10.0, 20.0, 30.0, 40.0]\n",
            "String list again: ['10', '20', '30', '40']\n"
          ]
        }
      ]
    },
    {
      "cell_type": "code",
      "source": [
        "#11. Write a program that checks if a number is positive, negative, or zero.\n",
        "x=int(input(\"Enter a number\"))\n",
        "if x>0:\n",
        "  print(\"Number is positive\")\n",
        "elif x<0:\n",
        "  print(\"Number is negative\")\n",
        "else:\n",
        "  print(\"Number is zero\")"
      ],
      "metadata": {
        "colab": {
          "base_uri": "https://localhost:8080/"
        },
        "id": "d4Z5gK4qwzpV",
        "outputId": "8a276f52-27c6-4967-cdce-064445dd34f6"
      },
      "execution_count": 36,
      "outputs": [
        {
          "output_type": "stream",
          "name": "stdout",
          "text": [
            "Enter a number45\n",
            "Number is positive\n"
          ]
        }
      ]
    },
    {
      "cell_type": "code",
      "source": [
        "#12. Write a for loop to print numbers from 1 to 10.\n",
        "for i in range(1,11):\n",
        "  print(i)"
      ],
      "metadata": {
        "colab": {
          "base_uri": "https://localhost:8080/"
        },
        "id": "E8U24fMgxqCj",
        "outputId": "1fb0c975-6dd1-48d1-8e36-a582facb00a0"
      },
      "execution_count": 39,
      "outputs": [
        {
          "output_type": "stream",
          "name": "stdout",
          "text": [
            "1\n",
            "2\n",
            "3\n",
            "4\n",
            "5\n",
            "6\n",
            "7\n",
            "8\n",
            "9\n",
            "10\n"
          ]
        }
      ]
    },
    {
      "cell_type": "code",
      "source": [
        "#13. Write a Python program to find the sum of all even numbers between 1 and 50\n",
        "# Initialize sum variable\n",
        "sum_even = 0\n",
        "\n",
        "# Loop through numbers from 1 to 50\n",
        "for num in range(1, 51):\n",
        "    if num % 2 == 0:\n",
        "        sum_even += num\n",
        "\n",
        "# Print the result\n",
        "print(\"Sum of even numbers from 1 to 50 is:\", sum_even)\n"
      ],
      "metadata": {
        "colab": {
          "base_uri": "https://localhost:8080/"
        },
        "id": "ftqzoc_syhxH",
        "outputId": "ccc29e6d-6a1d-4878-a7e9-1696c5ba0745"
      },
      "execution_count": 51,
      "outputs": [
        {
          "output_type": "stream",
          "name": "stdout",
          "text": [
            "Sum of even numbers from 1 to 50 is: 650\n"
          ]
        }
      ]
    },
    {
      "cell_type": "code",
      "source": [
        "#14. Write a program to reverse a string using a while loop.\n",
        "# Take input from the user\n",
        "text = input(\"Enter a string: \")\n",
        "\n",
        "# Initialize variables\n",
        "reversed_text = \"\"\n",
        "index = len(text) - 1\n",
        "\n",
        "# Reverse using while loop\n",
        "while index >= 0:\n",
        "    reversed_text += text[index]\n",
        "    index -= 1\n",
        "\n",
        "# Print the reversed string\n",
        "print(\"Reversed string:\", reversed_text)\n",
        "\n"
      ],
      "metadata": {
        "colab": {
          "base_uri": "https://localhost:8080/"
        },
        "id": "YTHaUztS0KsE",
        "outputId": "5b8647d6-7100-47a2-acf0-3f720619a377"
      },
      "execution_count": 52,
      "outputs": [
        {
          "output_type": "stream",
          "name": "stdout",
          "text": [
            "Enter a string: ravi\n",
            "Reversed string: ivar\n"
          ]
        }
      ]
    },
    {
      "cell_type": "code",
      "source": [
        "#15. Write a Python program to calculate the factorial of a number provided by the user using a while loop.\n",
        "x=int(input(\"Enter a number:\"))\n",
        "fact=1\n",
        "while x>0:\n",
        "  fact=fact*x\n",
        "  x=x-1\n",
        "print(\"Factorail of number is\",fact)"
      ],
      "metadata": {
        "colab": {
          "base_uri": "https://localhost:8080/"
        },
        "id": "7MLx-zeN1pXU",
        "outputId": "53462586-4b28-443d-961f-1f1be6c62952"
      },
      "execution_count": 56,
      "outputs": [
        {
          "output_type": "stream",
          "name": "stdout",
          "text": [
            "Enter a number:5\n",
            "120\n"
          ]
        }
      ]
    },
    {
      "cell_type": "code",
      "source": [],
      "metadata": {
        "id": "a9AcZwjL20Ga"
      },
      "execution_count": null,
      "outputs": []
    }
  ]
}