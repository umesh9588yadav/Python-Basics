{
  "nbformat": 4,
  "nbformat_minor": 0,
  "metadata": {
    "colab": {
      "provenance": []
    },
    "kernelspec": {
      "name": "python3",
      "display_name": "Python 3"
    },
    "language_info": {
      "name": "python"
    }
  },
  "cells": [
    {
      "cell_type": "markdown",
      "source": [
        "# **1.What is Object-Oriented Programming (OOP)?**\n",
        ">>> OOP is stand for object oreinted programing.\n",
        "\n",
        ">>>Python is a object oriented programing language.It allow to structure of creating a class and object in manner.It provides us the code reusability and make code read easy and simple."
      ],
      "metadata": {
        "id": "jz94DeagShlS"
      }
    },
    {
      "cell_type": "markdown",
      "source": [
        "# **2.What is a class in OOP ?**\n",
        ">>> Class is a blueprint/Template of a creating an object.Class is define by **class** keyword.\n",
        "\n",
        ">>Syntax:\n",
        "\n",
        "    class abc:\n",
        "     #Body of the class"
      ],
      "metadata": {
        "id": "VcTWYcltTZru"
      }
    },
    {
      "cell_type": "markdown",
      "source": [
        "# **3. What is an object in OOP?**\n",
        ">>> Python is an object oriented programming language.\n",
        "\n",
        ">>  Almost everything in Python is an object, with its properties and methods.\n",
        "\n",
        ">>To create an object in the class.\n",
        "\n",
        "  Now we can use the class named MyClass to create objects:\n",
        "  p1 = MyClass()\n",
        "print(p1.x)"
      ],
      "metadata": {
        "id": "mseVLlW_UQqk"
      }
    },
    {
      "cell_type": "markdown",
      "source": [
        "# **4.What is the difference between abstraction and encapsulation?**\n",
        ">>>>  Encapsulation\n",
        "\n",
        "Definition: Means hiding something.Bundling of data and method of class.\n",
        "\n",
        "Purpose: To restrict direct access to data and protect it from outside interference.\n",
        "\n",
        "How: By using access modifiers like public, protected, private (_ and __ in Python).\n",
        "\n",
        ">>>Abstraction\n",
        "\n",
        "Definition: Hiding the implementation details and showing only the essential features to the user.\n",
        "\n",
        "Purpose: To focus on what an object does, not how it does it.\n",
        "\n",
        "How: By using abstract classes and methods (in Python: abc module)."
      ],
      "metadata": {
        "id": "N40iwXYGVGWA"
      }
    },
    {
      "cell_type": "markdown",
      "source": [
        "# **5. What are dunder methods in Python?**\n",
        ">>> Dunder Method is a special method that define by built-in class in python class. Define this type of method for creating an custom object.\n",
        "\n",
        ">>Dunder = Double Underscore\n",
        "\n",
        "They are special (magic) methods in Python that start and end with two underscores: __methodname__.\n",
        ">> To acces all dunder method using the dir(str)."
      ],
      "metadata": {
        "id": "LVphAGiXV5x9"
      }
    },
    {
      "cell_type": "markdown",
      "source": [
        "# **6.Explain the concept of inheritance in OOP?**\n",
        ">>> Inheritance is refer to tranfering the features of parent class to the child class.In this child contain all the features of the parent/base class.\n",
        "It allows code reusability and helps in building a hierarchy of classes\n",
        "\n",
        ">>> Types of inheritance is 1).Single inheritance 2) Multilevel inheritance 3)Multiple inheritance 4)Hierachal inheritance 5) Hybrid inheritance."
      ],
      "metadata": {
        "id": "1GIhMfpTXNiS"
      }
    },
    {
      "cell_type": "markdown",
      "source": [
        "# **7.What is polymorphism in OOP?**\n",
        ">>> Polymorphism means “many forms”.\n",
        "In Object-Oriented Programming (OOP), polymorphism allows the same method or operator to behave differently based on the object or context.\n",
        "\n",
        " It lets you use one interface but have multiple implementations.\n",
        "\n",
        " Types of Polymorphism\n",
        "\n",
        "Compile-time Polymorphism (Method Overloading, Operator Overloading)\n",
        "\n",
        "Same method name with different parameters (not directly supported in Python, but can be mimicked).\n",
        "\n",
        "Operator overloading (like + used for numbers, strings, lists).\n",
        "\n",
        "Run-time Polymorphism (Method Overriding)\n",
        "\n",
        "When a child class provides its own implementation of a method defined in the parent class.\n",
        "\n",
        "Achieved using inheritance."
      ],
      "metadata": {
        "id": "2s3yk06wYRcl"
      }
    },
    {
      "cell_type": "markdown",
      "source": [
        "# **8.How is encapsulation achieved in Python?**\n",
        ">>> Encapsulation = wrapping data (variables) and methods (functions) into a class, and restricting direct access to the data.\n",
        " It is used to protect the internal state of an object and only allow controlled access.\n",
        "\n",
        "How Encapsulation is Achieved in Python\n",
        "\n",
        "Python does not have strict access modifiers like private, protected, public (like Java/C++), but it follows naming conventions using underscores:\n",
        "\n",
        "1. Public Members\n",
        "\n",
        "Accessible from anywhere.\n",
        "\n",
        "Default in Python.\n",
        "\n",
        "2. Private member\n",
        "\n",
        "Accessible inside the class.\n",
        "it is very hard access outside the class.\n",
        "\n",
        "3. Protected member\n",
        " it is internal purpose\n",
        " it take one underscore for make an object protected."
      ],
      "metadata": {
        "id": "KKxaJ_xDZCby"
      }
    },
    {
      "cell_type": "markdown",
      "source": [
        "# **9. What is a constructor in Python?**\n",
        ">>> A constructor in Python is a special method that is automatically called when you create a new object of a class.\n",
        "\n",
        "In Python, the constructor method is named __init__.\n",
        "\n",
        "Its main purpose is to initialize object attributes with default or given values.\n",
        "\n",
        "\n",
        "\n"
      ],
      "metadata": {
        "id": "dyMS1JICad8f"
      }
    },
    {
      "cell_type": "markdown",
      "source": [
        "# **10. What are class and static methods in Python?**\n",
        ">> In python Class method and static methods works very different to each other.\n",
        "\n",
        ">>> **Class Method**: Declared using @classmethod.\n",
        "\n",
        "First parameter is cls (class reference).\n",
        "\n",
        "Can access/modify class-level variables, but not instance variables directly\n",
        "\n",
        ">>> **Static method:**Declared using @staticmethod.\n",
        "\n",
        "No self or cls parameter.\n",
        "\n",
        "Works like a normal function but inside the class (for organization).\n",
        "\n",
        "Cannot access or modify class/instance variables directly."
      ],
      "metadata": {
        "id": "w2OekolxbBPu"
      }
    },
    {
      "cell_type": "markdown",
      "source": [
        "# **11.What is method overloading in Python ?**\n",
        ">>**Method overloading:** It is defined as in a class when the method have same name but different number of parameter passed and perform different task as their parameter passed."
      ],
      "metadata": {
        "id": "9e11Skp5cQPo"
      }
    },
    {
      "cell_type": "markdown",
      "source": [
        "# **12.What is method overriding in OOP?**\n",
        ">> Method overriding happens when a child class (subclass) defines a method with the same name, same parameters, and same return type as a method in its parent class (superclass).\n",
        "\n",
        " The child's method replaces (overrides) the parent’s method when called on the child object.\n",
        " It is used to implement runtime polymorphism."
      ],
      "metadata": {
        "id": "6SprYOWrdRId"
      }
    },
    {
      "cell_type": "markdown",
      "source": [
        "# **13.What is a property decorator in Python?**\n",
        ">>The @property decorator is used to convert a method into a \"read-only\" attribute.\n",
        "\n",
        "It lets you access methods like attributes (without parentheses).\n",
        "\n",
        "Commonly used to implement getters, setters, and deleters in an elegant way.\n",
        "\n",
        " This is part of Python's way to support encapsulation."
      ],
      "metadata": {
        "id": "CBZi5KxChHvm"
      }
    },
    {
      "cell_type": "markdown",
      "source": [
        "# **14. Why is polymorphism important in OOP ?**\n",
        ">>> Code Reusability & Flexibility\n",
        "\n",
        "You can write one interface (method name) and use it for different implementations.\n",
        "\n",
        "No need to write separate methods for each class.\n",
        ">>>.Supports extensibility (easy to add new classes).\n",
        "\n",
        "Enables runtime polymorphism (dynamic method resolution).\n",
        "\n",
        "Makes code simpler and cleaner (no huge if-else chains).\n",
        "\n",
        "Encourages interface-driven design (abstraction)."
      ],
      "metadata": {
        "id": "-2bIuNHSh46k"
      }
    },
    {
      "cell_type": "markdown",
      "source": [
        "# **15.What is an abstract class in Python ?**\n",
        ">>An abstract class is a class that cannot be instantiated directly.\n",
        "\n",
        "It serves as a blueprint for other classes.\n",
        "\n",
        "It can contain abstract methods (methods with no implementation, only declaration) and also concrete methods (with implementation).\n",
        "\n",
        "Any class that inherits from an abstract class must provide implementations for all of its abstract methods."
      ],
      "metadata": {
        "id": "WLopUQZcid9V"
      }
    },
    {
      "cell_type": "markdown",
      "source": [
        "# **16.What are the advantages of OOP?**\n",
        ">>The main advantages of OOP are:\n",
        "\n",
        "1.Modularity – better code organization.\n",
        "\n",
        "2.Reusability – reuse code via inheritance.\n",
        "\n",
        "3.Encapsulation – secure data hiding.\n",
        "\n",
        "4.Abstraction – hides complexity, shows essentials.\n",
        "\n",
        "5.Polymorphism – flexible and extensible behavior.\n",
        "\n",
        "6.Maintainability & Scalability – easy to update and expand.\n",
        "\n",
        "7.Real-world modeling – intuitive design."
      ],
      "metadata": {
        "id": "w5FdlR3ji1yv"
      }
    },
    {
      "cell_type": "markdown",
      "source": [
        "# **17.What is the difference between a class variable and an instance variable?**\n",
        ">>> Class variables → common to all objects (like static/shared data).\n",
        "\n",
        "Instance variables → belong to a specific object.\n",
        "\n",
        "If you change a class variable via the class, it affects all objects.\n",
        "\n",
        "If you change it via an object, only that object gets a new copy (it shadows the class variable)."
      ],
      "metadata": {
        "id": "hYPZfVltkX4V"
      }
    },
    {
      "cell_type": "markdown",
      "source": [
        "# **18.Explain the purpose of ‘’__str__’ and ‘__repr__’  methods in Python?**\n",
        ">> These both representation come under in dunder/special method.\n",
        "\n",
        ">>  1. __str__ (User-friendly string)\n",
        "\n",
        "Purpose: Return a readable / human-friendly string representation of the object.\n",
        "\n",
        "Called when you use print(obj) or str(obj).\n",
        "\n",
        "Goal → To be informative and easy to understand for the end user.\n",
        "\n",
        ">> 2. __repr__ (Developer-friendly string)\n",
        "\n",
        "Purpose: Return a developer-friendly / unambiguous string representation.\n",
        "\n",
        "Called when you use repr(obj) or just type the object name in the interpreter.\n",
        "\n",
        "Goal → To give a string that clearly identifies the object, often something that could be used to recreate the object."
      ],
      "metadata": {
        "id": "HbBMLYkLkhiR"
      }
    },
    {
      "cell_type": "markdown",
      "source": [
        "# **19. What is the significance of the super() function in Python?**\n",
        ">>The super() function in Python is used to call a method from the parent (superclass) inside a child (subclass).\n",
        "\n",
        "It allows you to access inherited methods (commonly constructors __init__) without explicitly naming the parent class.\n",
        "\n",
        "It helps maintain clean, maintainable, and extensible code — especially with multiple inheritance"
      ],
      "metadata": {
        "id": "GJ-CJkhHSAVF"
      }
    },
    {
      "cell_type": "markdown",
      "source": [
        "# **20.What is the significance of the __del__ method in Python?**\n",
        ">> __del__ is under property decorator method .\n",
        "\n",
        "“The __del__ method in Python is a destructor that is automatically called when an object is about to be destroyed. It is mainly used for cleanup tasks such as releasing resources.”"
      ],
      "metadata": {
        "id": "no-JTuacSjQ9"
      }
    },
    {
      "cell_type": "markdown",
      "source": [
        "# **21.What is multiple inheritance in Python?**\n",
        ">> Multiple inheritance is defined as the when two or more class make a single child .In this both class property aquire by the child class .Child class is powerful class.\n"
      ],
      "metadata": {
        "id": "sDEwZC8sUpdh"
      }
    },
    {
      "cell_type": "markdown",
      "source": [
        "# **22.What is the difference between @staticmethod and @classmethod in Python?**\n",
        "\n",
        ">> 1. @classmethod\n",
        "\n",
        "A method that receives the class (cls) as its first argument instead of the instance (self).\n",
        "\n",
        "Can access and modify class variables, but not instance-specific data directly.\n",
        "\n",
        "Commonly used as factory methods to create objects in different ways.\n",
        "\n",
        ">>2.1. @staticmethod\n",
        "\n",
        "A method that does not depend on the instance (self) or the class (cls).\n",
        "\n",
        "Behaves just like a normal function, but it belongs to the class’s namespace.\n",
        "\n",
        "Cannot access or modify class/instance variables.\n",
        "\n",
        "Used when some logic is related to the class but doesn’t need instance/class data."
      ],
      "metadata": {
        "id": "YdAF7QUtW7hF"
      }
    },
    {
      "cell_type": "markdown",
      "source": [
        "# **23.How does polymorphism work in Python with inheritance?**\n",
        ">> Polymorphism means “many forms”.\n",
        "\n",
        "In OOP, it allows methods in different classes to have the same name but different implementations.\n",
        "\n",
        "With inheritance, polymorphism usually happens through method overriding:\n",
        "\n",
        "A parent class defines a method.\n",
        "\n",
        "A child class overrides (redefines) that method with its own behavior.\n",
        "\n",
        "At runtime, Python decides which method to call, depending on the object type."
      ],
      "metadata": {
        "id": "ief58QccX079"
      }
    },
    {
      "cell_type": "markdown",
      "source": [
        "# **24.hat is method chaining in Python OOP?**\n",
        ">>Definition:\n",
        "Method chaining means calling multiple methods on the same object in a single line, one after another.\n",
        "\n",
        "Each method returns the object itself (self), so you can keep calling methods on it."
      ],
      "metadata": {
        "id": "ko2zLlXVYWxZ"
      }
    },
    {
      "cell_type": "code",
      "source": [],
      "metadata": {
        "id": "14sR3lNOYzfv"
      },
      "execution_count": null,
      "outputs": []
    },
    {
      "cell_type": "markdown",
      "source": [
        "# **25. What is the purpose of the __call__ method in Python?**\n",
        ">> In a class when we make class object then we call object as function when the __Call__ function/call.\n",
        "\n",
        "\n",
        "\n"
      ],
      "metadata": {
        "id": "IgzJJ4DHWQvZ"
      }
    },
    {
      "cell_type": "markdown",
      "source": [
        "**Practical**"
      ],
      "metadata": {
        "id": "oKb3LM1wZLg1"
      }
    },
    {
      "cell_type": "code",
      "source": [
        "#1. Create a parent class Animal with a method speak() that prints a generic message. Create a child class Dog\n",
        "#that overrides the speak() method to print \"Bark!\".\n",
        "#Parent class\n",
        "class Animal:\n",
        "    def speak(self):\n",
        "        print(\"Generic animal sound\")\n",
        "#Child class\n",
        "class Dog(Animal):\n",
        "    def speak(self):\n",
        "        print(\"Bark!\")\n",
        "a=Animal()\n",
        "d=Dog()\n",
        "a.speak()\n",
        "d.speak()"
      ],
      "metadata": {
        "colab": {
          "base_uri": "https://localhost:8080/"
        },
        "id": "_CF4i7TNZPjt",
        "outputId": "92941d33-a29e-444b-e0e7-53a554793ee5"
      },
      "execution_count": 2,
      "outputs": [
        {
          "output_type": "stream",
          "name": "stdout",
          "text": [
            "Generic animal sound\n",
            "Bark!\n"
          ]
        }
      ]
    },
    {
      "cell_type": "code",
      "source": [
        "#2. Write a program to create an abstract class Shape with a method area(). Derive classes Circle and Rectangle\n",
        "#from it and implement the area() method in both.\n",
        "from abc import ABC, abstractmethod\n",
        "class Shape(ABC):\n",
        "    @abstractmethod\n",
        "    def area(self,radius):\n",
        "        self.radius=radius\n",
        "        pass\n",
        "class Circle(Shape):\n",
        "  def __init__(self,radius):\n",
        "    self.radius=radius\n",
        "  def area(self):\n",
        "    return 3.14*self.radius*self.radius\n",
        "\n",
        "class Rectangle(Shape):\n",
        "  def __init__(self,length,width):\n",
        "    self.length=length\n",
        "    self.width=width\n",
        "  def area(self):\n",
        "    return self.length*self.width\n",
        "\n",
        "a=Circle(10)\n",
        "b=Rectangle(10,20)\n",
        "print(\"Area of a circle\",a.area())\n",
        "print(\"Area of a rectangle\",b.area())\n",
        "\n",
        "\n"
      ],
      "metadata": {
        "colab": {
          "base_uri": "https://localhost:8080/"
        },
        "id": "AWeVoou4Zydr",
        "outputId": "d49bf861-d76a-4f57-d87d-ef0633b23ea8"
      },
      "execution_count": 4,
      "outputs": [
        {
          "output_type": "stream",
          "name": "stdout",
          "text": [
            "Area of a circle 314.0\n",
            "Area of a rectangle 200\n"
          ]
        }
      ]
    },
    {
      "cell_type": "code",
      "source": [
        "#3. Implement a multi-level inheritance scenario where a class Vehicle has an attribute type. Derive a class Car\n",
        "#and further derive a class ElectricCar that adds a battery attribute.\n",
        "# Base class\n",
        "class Vehicle:\n",
        "    def __init__(self, vehicle_type):\n",
        "        self.type = vehicle_type\n",
        "\n",
        "    def show_info(self):\n",
        "        print(f\"Vehicle Type: {self.type}\")\n",
        "\n",
        "\n",
        "# Derived class\n",
        "class Car(Vehicle):\n",
        "    def __init__(self, vehicle_type, brand):\n",
        "        super().__init__(vehicle_type)   # Call parent constructor\n",
        "        self.brand = brand\n",
        "\n",
        "    def show_info(self):\n",
        "        super().show_info()\n",
        "        print(f\"Car Brand: {self.brand}\")\n",
        "\n",
        "\n",
        "# Further derived class\n",
        "class ElectricCar(Car):\n",
        "    def __init__(self, vehicle_type, brand, battery):\n",
        "        super().__init__(vehicle_type, brand)\n",
        "obj=Vehicle(\"four_Whiller\")\n",
        "obj.show_info()\n",
        "obj1=Car(\"four_Whiller\",\"Toyota\")\n",
        "obj1.show_info()\n",
        "obj2=ElectricCar(\"four_Whiller\",\"Toyota\",\"5000\")\n",
        "obj2.show_info()\n",
        "\n"
      ],
      "metadata": {
        "colab": {
          "base_uri": "https://localhost:8080/"
        },
        "id": "MM7VrBBzcYdE",
        "outputId": "42f20138-af78-4064-da57-896e2bbe3bf9"
      },
      "execution_count": 1,
      "outputs": [
        {
          "output_type": "stream",
          "name": "stdout",
          "text": [
            "Vehicle Type: four_Whiller\n",
            "Vehicle Type: four_Whiller\n",
            "Car Brand: Toyota\n",
            "Vehicle Type: four_Whiller\n",
            "Car Brand: Toyota\n"
          ]
        }
      ]
    },
    {
      "cell_type": "code",
      "source": [
        "#4. Demonstrate polymorphism by creating a base class Bird with a method fly(). Create two derived classes\n",
        "#Sparrow and Penguin that override the fly() method.\n",
        "class Bird:\n",
        "    def fly(self):\n",
        "        print(\"Birds can fly\")\n",
        "class Sparrow(Bird):\n",
        "    def fly(self):\n",
        "        print(\"Sparrows can fly\")\n",
        "class Penguin(Bird):\n",
        "    def fly(self):\n",
        "        print(\"Penguins cannot fly\")\n",
        "obj=Bird()\n",
        "obj1=Sparrow()\n",
        "obj2=Penguin()\n",
        "obj.fly()\n",
        "obj1.fly()\n",
        "obj2.fly()\n"
      ],
      "metadata": {
        "colab": {
          "base_uri": "https://localhost:8080/"
        },
        "id": "veXxu-SBdV8T",
        "outputId": "b60c09c1-6ab1-4971-9896-b1c1680ebe3b"
      },
      "execution_count": 2,
      "outputs": [
        {
          "output_type": "stream",
          "name": "stdout",
          "text": [
            "Birds can fly\n",
            "Sparrows can fly\n",
            "Penguins cannot fly\n"
          ]
        }
      ]
    },
    {
      "cell_type": "code",
      "source": [
        "#4. Demonstrate polymorphism by creating a base class Bird with a method fly(). Create two derived classes\n",
        "#Sparrow and Penguin that override the fly() method.\n",
        "\n",
        "# Base class\n",
        "class Bird:\n",
        "    def fly(self):\n",
        "        print(\"Some birds can fly.\")\n",
        "\n",
        "# Derived class: Sparrow\n",
        "class Sparrow(Bird):\n",
        "    def fly(self):\n",
        "        print(\"Sparrow flies high in the sky!\")\n",
        "\n",
        "# Derived class: Penguin\n",
        "class Penguin(Bird):\n",
        "    def fly(self):\n",
        "        print(\"Penguins cannot fly, they swim instead.\")\n",
        "\n",
        "# Polymorphism in action\n",
        "birds = [Sparrow(), Penguin()]\n",
        "\n",
        "for b in birds:\n",
        "    b.fly()   # Same method name, different behavior\n"
      ],
      "metadata": {
        "colab": {
          "base_uri": "https://localhost:8080/"
        },
        "id": "hSMhTptAeEj9",
        "outputId": "7a719e56-d748-4c58-83af-0dbafa8bb977"
      },
      "execution_count": 3,
      "outputs": [
        {
          "output_type": "stream",
          "name": "stdout",
          "text": [
            "Sparrow flies high in the sky!\n",
            "Penguins cannot fly, they swim instead.\n"
          ]
        }
      ]
    },
    {
      "cell_type": "code",
      "source": [
        "#5. Write a program to demonstrate encapsulation by creating a class BankAccount with private attributes\n",
        "#balance and methods to deposit, withdraw, and check balance.\n",
        "class BankAccount:\n",
        "    def __init__(self, balance=0):\n",
        "        self.__balance = balance\n",
        "    def deposit(self, amount):\n",
        "        self.__balance += amount\n",
        "    def withdraw(self, amount):\n",
        "        if amount <= self.__balance:\n",
        "            self.__balance -= amount\n",
        "        else:\n",
        "            print(\"Insufficient balance.\")\n",
        "    def check_balance(self):\n",
        "        return self.__balance\n",
        "obj=BankAccount(10000)\n",
        "print(\"Total balance in a account\",obj.check_balance())\n",
        "obj.deposit(1000)\n",
        "print(\"Deposite balance is\",obj.check_balance())\n",
        "obj.withdraw(1000)\n",
        "print(\"After withdraw bank balance is\",obj.check_balance())"
      ],
      "metadata": {
        "colab": {
          "base_uri": "https://localhost:8080/"
        },
        "id": "HvO07wHBeUhh",
        "outputId": "b2ffc965-eda3-4e4c-97c9-c53d2c8167a8"
      },
      "execution_count": 5,
      "outputs": [
        {
          "output_type": "stream",
          "name": "stdout",
          "text": [
            "Total balance in a account 10000\n",
            "Deposite balance is 11000\n",
            "After withdraw bank balance is 10000\n"
          ]
        }
      ]
    },
    {
      "cell_type": "code",
      "source": [
        "#6. Demonstrate runtime polymorphism using a method play() in a base class Instrument. Derive classes Guitar\n",
        "#and Piano that implement their own version of play().\n",
        "#Base class\n",
        "class instrument:\n",
        "  def Play(self):\n",
        "    print(\"An instrument is playing\")\n",
        "#Derived class Guitar\n",
        "class Guitar:\n",
        "  def Play(self):\n",
        "    print(\"Guitar is playing\")\n",
        "#Derived class Paino\n",
        "class Paino:\n",
        "  def Play(self):\n",
        "    print(\"Paino is playing\")\n",
        "#Polymorphism came play in action\n",
        "Instruments=[Guitar(),Paino()]\n",
        "for i in Instruments:\n",
        "  i.Play() #Play is method"
      ],
      "metadata": {
        "colab": {
          "base_uri": "https://localhost:8080/"
        },
        "id": "9vnh7aq-fkZ2",
        "outputId": "b7bc13e1-26ae-416d-c6eb-2b00db9ffc64"
      },
      "execution_count": 7,
      "outputs": [
        {
          "output_type": "stream",
          "name": "stdout",
          "text": [
            "Guitar is playing\n",
            "Paino is playing\n"
          ]
        }
      ]
    },
    {
      "cell_type": "code",
      "source": [
        "#7. Create a class MathOperations with a class method add_numbers() to add two numbers and a static\n",
        "#method subtract_numbers() to subtract two numbers.\n",
        "#Base class\n",
        "class MathOperations:\n",
        "  @classmethod\n",
        "  def add_numbers(cls,a,b):\n",
        "    cls.a=a\n",
        "    cls.b=b\n",
        "    return a+b\n",
        "  @staticmethod\n",
        "  def subtract_numbers(a,b): #In static method no need of self and cls.\n",
        "    return a-b\n",
        "print(\"Addition:\", MathOperations.add_numbers(10, 5))     # Using class method\n",
        "print(\"Subtraction:\", MathOperations.subtract_numbers(10, 5))"
      ],
      "metadata": {
        "colab": {
          "base_uri": "https://localhost:8080/"
        },
        "id": "Gq9ZMQ4AhEdd",
        "outputId": "749b217d-fc9a-4461-dbe0-63937b6e192c"
      },
      "execution_count": 9,
      "outputs": [
        {
          "output_type": "stream",
          "name": "stdout",
          "text": [
            "Addition: 15\n",
            "Subtraction: 5\n"
          ]
        }
      ]
    },
    {
      "cell_type": "code",
      "source": [
        "#8. Implement a class Person with a class method to count the total number of persons created.\n",
        "class Person:\n",
        "  count=0\n",
        "  def __init__(self,name):\n",
        "    self.name=name\n",
        "    Person.count+=1\n",
        "  @classmethod\n",
        "  def total_persons(cls):\n",
        "    return cls.count\n",
        "p1 = Person(\"Alice\")\n",
        "p2 = Person(\"Bob\")\n",
        "p3 = Person(\"Charlie\")\n",
        "p4=Person(\"Dinesh\")\n",
        "\n",
        "print(\"Total persons created:\", Person.total_persons())"
      ],
      "metadata": {
        "colab": {
          "base_uri": "https://localhost:8080/"
        },
        "id": "g1GSxagxioyY",
        "outputId": "68f619e7-a9a5-4d9e-ae31-565114a46bc9"
      },
      "execution_count": 12,
      "outputs": [
        {
          "output_type": "stream",
          "name": "stdout",
          "text": [
            "Total persons created: 4\n"
          ]
        }
      ]
    },
    {
      "cell_type": "code",
      "source": [
        "#9. Write a class Fraction with attributes numerator and denominator. Override the str method to display the\n",
        "#fraction as \"numerator/denominator\n",
        "class Fraction:\n",
        "  def __init__(self,numerator,denominator):\n",
        "    self.numerator=numerator\n",
        "    self.denominator=denominator\n",
        "  def __str__(self):\n",
        "    return f\"{self.numerator}/{self.denominator}\"\n",
        "f1=Fraction(1,2)\n",
        "print(\"fraction as numerator/denominator\",f1)"
      ],
      "metadata": {
        "colab": {
          "base_uri": "https://localhost:8080/"
        },
        "id": "1SruUlgpk9RP",
        "outputId": "83de5705-bec6-468a-bd5f-f4bbb0e18f0d"
      },
      "execution_count": 14,
      "outputs": [
        {
          "output_type": "stream",
          "name": "stdout",
          "text": [
            "fraction as numerator/denominator 1/2\n"
          ]
        }
      ]
    },
    {
      "cell_type": "code",
      "source": [
        "#10. Demonstrate operator overloading by creating a class Vector and overriding the add method to add two\n",
        "#vectors.\n",
        "class Vector:\n",
        "  def __init__(self,x,y):\n",
        "    self.x=x\n",
        "    self.y=y\n",
        "    #Overloading the + operator\n",
        "  def __add__(self,other):\n",
        "    return Vector(self.x+other.x,self.y+other.y)\n",
        "  def __str__(self):\n",
        "        return f\"Vector({self.x}, {self.y})\"\n",
        "v1 = Vector(2, 3)\n",
        "v2 = Vector(4, 5)\n",
        "\n",
        "v3 = v1 + v2   # Uses __add__ method\n",
        "\n",
        "print(v1)\n",
        "print(v2)\n",
        "print(\"Addition of two vector:\",v3)\n"
      ],
      "metadata": {
        "colab": {
          "base_uri": "https://localhost:8080/"
        },
        "id": "98u_UODdlsXX",
        "outputId": "419566e2-2cee-48f2-e947-280c5857c233"
      },
      "execution_count": 17,
      "outputs": [
        {
          "output_type": "stream",
          "name": "stdout",
          "text": [
            "Vector(2, 3)\n",
            "Vector(4, 5)\n",
            "Addition of two vector: Vector(6, 8)\n"
          ]
        }
      ]
    },
    {
      "cell_type": "code",
      "source": [
        "#11. Create a class Person with attributes name and age. Add a method greet() that prints \"Hello, my name is\n",
        "#{name} and I am {age} years old.\"\n",
        "class Person:\n",
        "  def __init__(self,name,age):\n",
        "    self.name=name\n",
        "    self.age=age\n",
        "  def greet(self):\n",
        "    print(f\"Hello, my name is {self.name} and I am {self.age} years old.\")\n",
        "p1=Person(\"Dinesh\",22)\n",
        "p1.greet()"
      ],
      "metadata": {
        "colab": {
          "base_uri": "https://localhost:8080/"
        },
        "id": "pfjMz9vAnYBK",
        "outputId": "ccabeb52-386b-41db-d4dd-b454ff27bbf5"
      },
      "execution_count": 19,
      "outputs": [
        {
          "output_type": "stream",
          "name": "stdout",
          "text": [
            "Hello, my name is Dinesh and I am 22 years old.\n"
          ]
        }
      ]
    },
    {
      "cell_type": "code",
      "source": [
        "#12. Implement a class Student with attributes name and grades. Create a method average_grade() to compute\n",
        "#the average of the grades.\n",
        "class Student:\n",
        "  def __init__(self,nam,grades):\n",
        "    self.nam=nam\n",
        "    self.grades=grades\n",
        "  def average_grade(self):\n",
        "    return sum(self.grades)/len(self.grades)\n",
        "stud=Student(\"Rahul\",[45,60,75,90,82])\n",
        "stud1=Student(\"Rohan\",[60,75,91,87,75])\n",
        "print(\"Average grade of Rahul\",stud.average_grade())\n",
        "print(\"Average grade of Rohan\",stud1.average_grade())\n"
      ],
      "metadata": {
        "colab": {
          "base_uri": "https://localhost:8080/"
        },
        "id": "RjBf22k-nwOl",
        "outputId": "ce693ebf-f995-47e5-83e5-78ff31f47996"
      },
      "execution_count": 20,
      "outputs": [
        {
          "output_type": "stream",
          "name": "stdout",
          "text": [
            "Average grade of Rahul 70.4\n",
            "Average grade of Rohan 77.6\n"
          ]
        }
      ]
    },
    {
      "cell_type": "code",
      "source": [
        "#13. Create a class Rectangle with methods set_dimensions() to set the dimensions and area() to calculate the area:\n",
        "class Rectangle:\n",
        "  def __init__(self):\n",
        "    self.length= 0\n",
        "    self.width= 0\n",
        "\n",
        "  def set_dimensions(self,length,width):\n",
        "    self.length=length\n",
        "    self.width=width\n",
        "  def area(self):\n",
        "    return self.length*self.width\n",
        "r1=Rectangle()\n",
        "r1.set_dimensions(10,20)\n",
        "print(\"Length\",r1.length,\"Width\",r1.width)\n",
        "\n",
        "print(\"Area of a rectangle\",r1.area())\n",
        "\n"
      ],
      "metadata": {
        "colab": {
          "base_uri": "https://localhost:8080/"
        },
        "id": "sKhVCIQypX9g",
        "outputId": "240e7c08-1342-4a33-a0f9-872f201dba51"
      },
      "execution_count": 32,
      "outputs": [
        {
          "output_type": "stream",
          "name": "stdout",
          "text": [
            "Length 10 Width 20\n",
            "Area of a rectangle 200\n"
          ]
        }
      ]
    },
    {
      "cell_type": "code",
      "source": [
        "#14. Create a class Employee with a method calculate_salary() that computes the salary based on hours worked\n",
        "#and hourly rate. Create a derived class Manager that adds a bonus to the salary\n",
        "class Employee:\n",
        "  def __init__(self,name,hours_worked,hourly_rate):\n",
        "    self.name=name\n",
        "    self.hours_worked=hours_worked\n",
        "    self.hourly_rate=hourly_rate\n",
        "  def calculate_salary(self):\n",
        "    return self.hours_worked*self.hourly_rate\n",
        "class Manager(Employee):\n",
        "    def __init__(self, name, hours_worked, hourly_rate, bonus):\n",
        "        # Call parent constructor using super()\n",
        "        super().__init__(name, hours_worked, hourly_rate)\n",
        "        self.bonus = bonus\n",
        "    def calculate_salary(self):\n",
        "        base_salary = super().calculate_salary()\n",
        "        return base_salary + self.bonus\n",
        "p1=Employee(\"Dinesh\",100,1000)\n",
        "p2=Manager(\"Rohan\",100,1000,10000)\n",
        "print(f\"Employee {p1.name} Salary: ₹{p1.calculate_salary()}\")\n",
        "print(f\"Manager {p2.name} Salary: ₹{p2.calculate_salary()}\")\n"
      ],
      "metadata": {
        "colab": {
          "base_uri": "https://localhost:8080/"
        },
        "id": "TfgiI-Kfr-uj",
        "outputId": "c7ce45e2-e223-463a-e866-0269d443af8b"
      },
      "execution_count": 36,
      "outputs": [
        {
          "output_type": "stream",
          "name": "stdout",
          "text": [
            "Employee Dinesh Salary: ₹100000\n",
            "Manager Rohan Salary: ₹110000\n"
          ]
        }
      ]
    },
    {
      "cell_type": "code",
      "source": [
        "#15. Create a class Product with attributes name, price, and quantity. Implement a method total_price() that\n",
        "#calculates the total price of the product.\n",
        "class Product:\n",
        "  def __init__(self,name,price,quantity):\n",
        "    self.name=name\n",
        "    self.price=price\n",
        "    self.quantity=quantity\n",
        "  def total_price(self):\n",
        "    return self.price*self.quantity\n",
        "obj=Product(\"Laptop\",50000,3)\n",
        "obj1=Product(\"Mobile\",15000,2)\n",
        "print(f\"Total price of {obj.name} is ₹{obj.total_price()}\")\n",
        "print(f\"Total price of {obj1.name} is ₹{obj1.total_price()} \")"
      ],
      "metadata": {
        "colab": {
          "base_uri": "https://localhost:8080/"
        },
        "id": "gS0NprtGuw5l",
        "outputId": "65c289ff-5601-409c-8ccd-f86f55022d8a"
      },
      "execution_count": 40,
      "outputs": [
        {
          "output_type": "stream",
          "name": "stdout",
          "text": [
            "Total price of Laptop is ₹150000\n",
            "Total price of Mobile is ₹30000 \n"
          ]
        }
      ]
    },
    {
      "cell_type": "code",
      "source": [
        "#16. Create a class Animal with an abstract method sound(). Create two derived classes Cow and Sheep that\n",
        "#implement the sound() method.\n",
        "from abc import ABC, abstractmethod\n",
        "class Animal(ABC):\n",
        "  @abstractmethod\n",
        "  def sound(self):\n",
        "    pass\n",
        "class Cow(Animal):\n",
        "  def sound(self):\n",
        "    print(\"Cow makes moo sound\")\n",
        "class ship(Animal):\n",
        "  def sound(self):\n",
        "    print(\"Sheep makes wee sound\")\n",
        "obj=Cow()\n",
        "obj1=ship()\n",
        "obj.sound()\n",
        "obj1.sound()"
      ],
      "metadata": {
        "colab": {
          "base_uri": "https://localhost:8080/"
        },
        "id": "D63eZfeUwPos",
        "outputId": "2d7ca042-491a-47b8-c546-0eade2f0fae4"
      },
      "execution_count": 41,
      "outputs": [
        {
          "output_type": "stream",
          "name": "stdout",
          "text": [
            "Cow makes moo sound\n",
            "Sheep makes wee sound\n"
          ]
        }
      ]
    },
    {
      "cell_type": "code",
      "source": [
        "#17. Create a class Book with attributes title, author, and year_published. Add a method get_book_info() that\n",
        "#returns a formatted string with the book's details.\n",
        "class Book:\n",
        "    def __init__(self, title, author, year_published):\n",
        "        self.title = title\n",
        "        self.author = author\n",
        "        self.year_published = year_published\n",
        "\n",
        "    def get_book_info(self):\n",
        "        return f\"'{self.title}' by {self.author}, published in {self.year_published}\"\n",
        "\n",
        "\n",
        "\n",
        "b1 = Book(\"The Great Gatsby\", \"F. Scott Fitzgerald\", 1925)\n",
        "b2 = Book(\"Python Programming\", \"Guido van Rossum\", 1991)\n",
        "\n",
        "print(b1.get_book_info())\n",
        "print(b2.get_book_info())\n",
        "\n"
      ],
      "metadata": {
        "colab": {
          "base_uri": "https://localhost:8080/"
        },
        "id": "Z35kn9zzwyfY",
        "outputId": "76260d5d-cb24-423e-d146-de52ede139ee"
      },
      "execution_count": 42,
      "outputs": [
        {
          "output_type": "stream",
          "name": "stdout",
          "text": [
            "'The Great Gatsby' by F. Scott Fitzgerald, published in 1925\n",
            "'Python Programming' by Guido van Rossum, published in 1991\n"
          ]
        }
      ]
    },
    {
      "cell_type": "code",
      "source": [
        "#18. Create a class House with attributes address and price. Create a derived class Mansion that adds an\n",
        "#attribute number_of_rooms\n",
        "class House:\n",
        "    def __init__(self, address, price):\n",
        "        self.address = address\n",
        "        self.price = price\n",
        "\n",
        "    def get_info(self):\n",
        "        return f\"House located at {self.address}, Price: ₹{self.price}\"\n",
        "\n",
        "\n",
        "class Mansion(House):   # Derived class\n",
        "    def __init__(self, address, price, number_of_rooms):\n",
        "        super().__init__(address, price)   # Call parent constructor\n",
        "        self.number_of_rooms = number_of_rooms\n",
        "\n",
        "    def get_info(self):\n",
        "        return f\"Mansion at {self.address}, Price: ₹{self.price}, Rooms: {self.number_of_rooms}\"\n",
        "\n",
        "\n",
        "\n",
        "h1 = House(\"123 Main Street\", 7500000)\n",
        "m1 = Mansion(\"Luxury Hills, Sector 45\", 25000000, 12)\n",
        "\n",
        "print(h1.get_info())\n",
        "print(m1.get_info())\n"
      ],
      "metadata": {
        "colab": {
          "base_uri": "https://localhost:8080/"
        },
        "id": "uWd3jnIYzhGT",
        "outputId": "c3f8b3c1-d069-4bdb-ce5b-36653decd717"
      },
      "execution_count": 43,
      "outputs": [
        {
          "output_type": "stream",
          "name": "stdout",
          "text": [
            "House located at 123 Main Street, Price: ₹7500000\n",
            "Mansion at Luxury Hills, Sector 45, Price: ₹25000000, Rooms: 12\n"
          ]
        }
      ]
    }
  ]
}