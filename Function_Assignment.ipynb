{
  "nbformat": 4,
  "nbformat_minor": 0,
  "metadata": {
    "colab": {
      "provenance": []
    },
    "kernelspec": {
      "name": "python3",
      "display_name": "Python 3"
    },
    "language_info": {
      "name": "python"
    }
  },
  "cells": [
    {
      "cell_type": "markdown",
      "source": [
        "# **1. What is the difference between a function and a method in Python?**\n",
        ">>** Function**: Function is a block of code that perform a specific task.The block of code can be reuseable.\n",
        "**Syntax** def fun()\n",
        "Function is define by the def keyword.\n",
        "\n",
        ">> **Method**: Method is similar to function but it used in class.\n",
        ">> A method in Python is a function defined inside a class that is used to perform operations on the objects of that class. It takes the instance (self) as its first parameter and can access or modify the object’s attributes.\n",
        "Example\n"
      ],
      "metadata": {
        "id": "zUnsULMyVe7H"
      }
    },
    {
      "cell_type": "code",
      "source": [
        "#Function program example\n",
        "def add(a,b):\n",
        "  return a+b\n",
        "add(2,3)"
      ],
      "metadata": {
        "colab": {
          "base_uri": "https://localhost:8080/"
        },
        "id": "KcOJcq55XJuA",
        "outputId": "91c2d9e8-eb1c-4e14-8b94-8fac9ddbc455"
      },
      "execution_count": 1,
      "outputs": [
        {
          "output_type": "execute_result",
          "data": {
            "text/plain": [
              "5"
            ]
          },
          "metadata": {},
          "execution_count": 1
        }
      ]
    },
    {
      "cell_type": "markdown",
      "source": [
        "# **2. Explain the concept of function arguments and parameters in Python?**\n",
        ">>> Function is a block of code that perform a specific task.\n",
        "\n",
        ">> **Parameters **:Parameters define in a function when pass an argument that can recieve by the parameters.It knows as the parameters.We can set the value of parameter.Parameters are two types.`1.Actual parameter 2.Formal parameters\n",
        "\n",
        ">> **Arguments**:Argument define in a function we call the function and pass the elements in a function is knows a arguments. In this we define the value for the parameters.\n",
        "\n",
        ">> Arguments are two types.1.Postional argument 2.Keyword arguments\n",
        "\n"
      ],
      "metadata": {
        "id": "TtmS0G1YXV6l"
      }
    },
    {
      "cell_type": "code",
      "source": [
        "# Parameters and argument program\n",
        "def add(a,b): # parameters\n",
        "  return a+b\n",
        "add(a=10,b=30) # Arguments"
      ],
      "metadata": {
        "colab": {
          "base_uri": "https://localhost:8080/"
        },
        "id": "ivo442RcXRye",
        "outputId": "ca74e0f3-9883-4ca9-af6c-fa3e74852e5d"
      },
      "execution_count": 2,
      "outputs": [
        {
          "output_type": "execute_result",
          "data": {
            "text/plain": [
              "40"
            ]
          },
          "metadata": {},
          "execution_count": 2
        }
      ]
    },
    {
      "cell_type": "markdown",
      "source": [
        "# **3. What are the different ways to define and call a function in Python?**\n",
        ">> In python language we have amny method/ways define a function .We can define\n",
        "a function by following ways:\n",
        "\n",
        "\n",
        "1.   Using def sum()\n",
        ">>  It is a standard method to define a function and call by its function name sum.\n",
        "2.   Using lambda function:\n",
        ">>> lambda is small anoymous(nameless) function.It can define by the lambda keyword. It used for a one expresson.\n",
        "\n",
        "3.   Using function with parameters:\n",
        ">> In this function similar to the standard function but we pass an parameters in the function.\n",
        "\n",
        "\n",
        "\n",
        "\n"
      ],
      "metadata": {
        "id": "24RSQ3nIZkjJ"
      }
    },
    {
      "cell_type": "code",
      "source": [
        "# Wap using function\n",
        "def add():\n",
        "  a=50\n",
        "  b=3\n",
        "  print(a*b)\n",
        "add()\n"
      ],
      "metadata": {
        "colab": {
          "base_uri": "https://localhost:8080/"
        },
        "id": "jQu2UGNBbr6C",
        "outputId": "047052bf-4b13-4dfa-c512-21a3ac5b1bc8"
      },
      "execution_count": 9,
      "outputs": [
        {
          "output_type": "stream",
          "name": "stdout",
          "text": [
            "150\n"
          ]
        }
      ]
    },
    {
      "cell_type": "code",
      "source": [
        "#Wap using lambda function\n",
        "r=lambda a,b:a**b\n",
        "r(2,3)"
      ],
      "metadata": {
        "colab": {
          "base_uri": "https://localhost:8080/"
        },
        "id": "IFu2koHIb6y8",
        "outputId": "56e3e755-1e0e-434c-c0cf-bac2547deaa2"
      },
      "execution_count": 5,
      "outputs": [
        {
          "output_type": "execute_result",
          "data": {
            "text/plain": [
              "8"
            ]
          },
          "metadata": {},
          "execution_count": 5
        }
      ]
    },
    {
      "cell_type": "code",
      "source": [
        "\n",
        "#Wap using parameters\n",
        "def add(a,b): #parameters\n",
        "  print(a+b)\n",
        "add(a=5,b=3) #Keywords"
      ],
      "metadata": {
        "colab": {
          "base_uri": "https://localhost:8080/"
        },
        "id": "mrvdPf5JcO6n",
        "outputId": "93a7c217-40ec-451b-8470-dab7a7adcc2a"
      },
      "execution_count": 10,
      "outputs": [
        {
          "output_type": "stream",
          "name": "stdout",
          "text": [
            "8\n"
          ]
        }
      ]
    },
    {
      "cell_type": "markdown",
      "source": [
        "# **4. What is the purpose of the `return` statement in a Python function?**\n",
        ">> The main purpose of the return statement used in python because The return statement in Python is used to send a value back from a function to the place where the function was called.\n",
        "\n",
        "It ends the function’s execution and provides the result/output of the function\n",
        "\n",
        "Some common key points for the return statements:\n",
        "Without return, a function gives None by default.\n",
        "\n",
        "You can return any type of value (number, string, list, object, etc.).\n",
        "\n",
        "You can return multiple values as a tuple"
      ],
      "metadata": {
        "id": "BBJvdiA8ccsb"
      }
    },
    {
      "cell_type": "code",
      "source": [
        "# wap program of return statement\n",
        "def greet():\n",
        "    return\"Hello!\"\n",
        "\n",
        "x = greet()\n",
        "print(x)"
      ],
      "metadata": {
        "colab": {
          "base_uri": "https://localhost:8080/"
        },
        "id": "g9tj12ahd4yT",
        "outputId": "c8f57765-8de8-406c-c545-f7f698317ae1"
      },
      "execution_count": 12,
      "outputs": [
        {
          "output_type": "stream",
          "name": "stdout",
          "text": [
            "Hello!\n"
          ]
        }
      ]
    },
    {
      "cell_type": "markdown",
      "source": [
        "# **5.What are iterators in Python and how do they differ from iterables?**\n",
        ">> **Iterator**: An iterator is an object representing a stream of data return the data one.\n",
        "It implements two methods:\n",
        "\n",
        "__iter__() → returns the iterator object itself.\n",
        "\n",
        "__next__() → returns the next element, and raises StopIteration when no elements are left.\n",
        "\n",
        "Iterable\n",
        "\n",
        "An iterable is any Python object capable of returning its elements one at a time.\n",
        "\n",
        "Examples: list, tuple, string, set, dict, etc.\n",
        "\n",
        "It implements the __iter__() method, which returns an iterator.\n",
        "\n",
        "\n"
      ],
      "metadata": {
        "id": "T98uhsUkeH_l"
      }
    },
    {
      "cell_type": "code",
      "source": [
        "#Wap for an iterable\n",
        "x=[1,2,3,\"Hello\",\"Ram\"]\n",
        "for i in x:\n",
        "  print(i)\n",
        ""
      ],
      "metadata": {
        "colab": {
          "base_uri": "https://localhost:8080/"
        },
        "id": "H_CZPY7PfHO1",
        "outputId": "e9105282-9410-4e32-af2f-84f03661dcf2"
      },
      "execution_count": 13,
      "outputs": [
        {
          "output_type": "stream",
          "name": "stdout",
          "text": [
            "1\n",
            "2\n",
            "3\n",
            "Hello\n",
            "Ram\n"
          ]
        }
      ]
    },
    {
      "cell_type": "code",
      "source": [
        "#using the iterator\n",
        "x=[1,2,3,\"Hello\",\"Ram\"]\n",
        "it=iter(x)\n",
        "next(it)\n"
      ],
      "metadata": {
        "colab": {
          "base_uri": "https://localhost:8080/"
        },
        "id": "KIJy__GxfV9Z",
        "outputId": "01587bf5-6788-411c-ea9f-8b506eaf53be"
      },
      "execution_count": 19,
      "outputs": [
        {
          "output_type": "execute_result",
          "data": {
            "text/plain": [
              "1"
            ]
          },
          "metadata": {},
          "execution_count": 19
        }
      ]
    },
    {
      "cell_type": "markdown",
      "source": [
        "# **6. Explain the concept of generators in Python and how they are defined.**\n",
        ">> In python yield is a keyword used inside a function to make a generator function.\n",
        "Generator function is similar to iterator.\n",
        "General used the return statement and the generator function used the yield statements."
      ],
      "metadata": {
        "id": "yiTiWk2af6OL"
      }
    },
    {
      "cell_type": "code",
      "source": [
        "def Square_number(n):\n",
        "  for i in range(n):\n",
        "    yield i**2\n",
        "y=Square_number(5)\n",
        "print(next(y))\n",
        "print(next(y))\n",
        "print(next(y))\n",
        "print(next(y))\n",
        "print(next(y))"
      ],
      "metadata": {
        "colab": {
          "base_uri": "https://localhost:8080/"
        },
        "id": "9_2D_L9Ffklm",
        "outputId": "ed26126f-aaed-461f-b30b-b8975273231f"
      },
      "execution_count": 26,
      "outputs": [
        {
          "output_type": "stream",
          "name": "stdout",
          "text": [
            "0\n",
            "1\n",
            "4\n",
            "9\n",
            "16\n"
          ]
        }
      ]
    },
    {
      "cell_type": "markdown",
      "source": [
        "# **7. What are the advantages of using generators over regular functions?**\n",
        ">> The Advantages of using generator over regular function are followinng.\n",
        "\n",
        "1. Generator used the yield keyword where general function use the return keyword.\n",
        "\n",
        "2. Return statements gives the entire result at a time but yield statements gives result one by one.\n",
        "\n",
        "3. Generator are less time consuming.\n",
        "\n",
        "4. Generator are very effective for large computation.\n",
        "\n"
      ],
      "metadata": {
        "id": "OSFfYnObiGg7"
      }
    },
    {
      "cell_type": "code",
      "source": [
        "# Regular function returns list (uses more memory)\n",
        "def squares_list(n):\n",
        "    return [i*i for i in range(n)]\n",
        "\n",
        "# Generator function yields values (memory efficient)\n",
        "def squares_gen(n):\n",
        "    for i in range(n):\n",
        "        yield i*i\n",
        "\n",
        "print(squares_list(5))      # [0, 1, 4, 9, 16]\n",
        "y=squares_gen(5)\n",
        "print(next(y))\n",
        "print(next(y))\n",
        "print(next(y))\n",
        "print(next(y))\n",
        "print(next(y))\n"
      ],
      "metadata": {
        "colab": {
          "base_uri": "https://localhost:8080/"
        },
        "id": "i-eDRkuthHX6",
        "outputId": "2d5880b0-a4a1-478a-c1d9-29d36ae27316"
      },
      "execution_count": 28,
      "outputs": [
        {
          "output_type": "stream",
          "name": "stdout",
          "text": [
            "[0, 1, 4, 9, 16]\n",
            "0\n",
            "1\n",
            "4\n",
            "9\n",
            "16\n"
          ]
        }
      ]
    },
    {
      "cell_type": "markdown",
      "source": [
        "# **8. What is a lambda function in Python and when is it typically used?**\n",
        "** Lambda function** lambda function is nameless function.It used the lambda keyword.It used for an one expreeson.It is single line function.\n",
        "\n",
        "Lambda functions are generally used when:\n",
        "\n",
        "You need a function only once or temporarily.\n",
        "\n",
        "You want to keep the code short and simple.\n",
        "\n",
        "Commonly used with functional programming tools:\n",
        "\n",
        "map() → apply function to each item\n",
        "\n",
        "filter() → filter items\n",
        "\n",
        "reduce() → combine values"
      ],
      "metadata": {
        "id": "bCUR8yWbkQ36"
      }
    },
    {
      "cell_type": "code",
      "source": [
        "#Wap of lambda function\n",
        "r=lambda a,b:a**b\n",
        "r(2,3)"
      ],
      "metadata": {
        "colab": {
          "base_uri": "https://localhost:8080/"
        },
        "id": "VZtY525hkO5u",
        "outputId": "bbcf7f71-6c58-4078-a427-07dc3c7aa10a"
      },
      "execution_count": 29,
      "outputs": [
        {
          "output_type": "execute_result",
          "data": {
            "text/plain": [
              "8"
            ]
          },
          "metadata": {},
          "execution_count": 29
        }
      ]
    },
    {
      "cell_type": "markdown",
      "source": [
        "# **9. Explain the purpose and usage of the `map()` function in Python.**\n",
        ">> map():Applies a function on every item it can be iterable and return a new object .Which can be converted i list,tuple etc.\n",
        "\n",
        "Usage: When you want to transform each elements."
      ],
      "metadata": {
        "id": "WqDDJeUblgYN"
      }
    },
    {
      "cell_type": "code",
      "source": [
        "#Wap program of map()\n",
        "x=[1,2,3,4,5]\n",
        "y=map(lambda a:a**2,x)\n",
        "print(list(y))"
      ],
      "metadata": {
        "colab": {
          "base_uri": "https://localhost:8080/"
        },
        "id": "72UwKQLymLkO",
        "outputId": "e997e58e-3d9f-45cc-ef5b-1633af94976d"
      },
      "execution_count": 30,
      "outputs": [
        {
          "output_type": "stream",
          "name": "stdout",
          "text": [
            "[1, 4, 9, 16, 25]\n"
          ]
        }
      ]
    },
    {
      "cell_type": "markdown",
      "source": [
        "# **10. What is the difference between `map()`, `reduce()`, and `filter()` functions in Python?**\n",
        "\n",
        "\n",
        "\n",
        "1.   Map(): Applies a function on every item it can be iterable and return a new object.\n",
        "1.In this oeration can done whole iterable object.\n",
        "\n",
        "2 It make a new object\n",
        "2.   filter():filter element of iterable based on their condition.\n",
        "1  It gives the result based on condition.\n",
        "\n",
        "2 It gives less element from the item.\n",
        "\n",
        "1.   Reduce():Applies a function comulatively to items in an iterable reducing to it single value.\n",
        "1 It gives the single value after it's computation.\n",
        "\n",
        "2 It perform many arithmetic operation\n",
        "3 It always gives two arguments.\n",
        "\n",
        "\n",
        "\n",
        "\n",
        "\n"
      ],
      "metadata": {
        "id": "jEeltpI7maZB"
      }
    },
    {
      "cell_type": "code",
      "source": [
        "#Wap program of map()\n",
        "num1=[1,2,3,4,5,6]\n",
        "y=map(lambda x:x**2,num1)\n",
        "print(list(y))"
      ],
      "metadata": {
        "colab": {
          "base_uri": "https://localhost:8080/"
        },
        "id": "7_RMuuqfmS-f",
        "outputId": "1a237836-a455-4897-e4ec-a3ec34e968d1"
      },
      "execution_count": 31,
      "outputs": [
        {
          "output_type": "stream",
          "name": "stdout",
          "text": [
            "[1, 4, 9, 16, 25, 36]\n"
          ]
        }
      ]
    },
    {
      "cell_type": "code",
      "source": [
        "#Wap program for filter()\n",
        "num1=[101,2,90,30,40,500]\n",
        "y=filter(lambda x:x%10==0,num1)\n",
        "print(list(y))"
      ],
      "metadata": {
        "colab": {
          "base_uri": "https://localhost:8080/"
        },
        "id": "B_ki0K2EomVU",
        "outputId": "061be26b-1a62-43fd-db3a-f6e12062df69"
      },
      "execution_count": 33,
      "outputs": [
        {
          "output_type": "stream",
          "name": "stdout",
          "text": [
            "[90, 30, 40, 500]\n"
          ]
        }
      ]
    },
    {
      "cell_type": "code",
      "source": [
        "#Wap program using reduce()\n",
        "from functools import reduce\n",
        "num1=[1,2,3,4,5,6]\n",
        "y=reduce(lambda x,y:x+y,num1)\n",
        "print(y)"
      ],
      "metadata": {
        "colab": {
          "base_uri": "https://localhost:8080/"
        },
        "id": "SAuyVXN3o8Dv",
        "outputId": "aeff7878-4da7-4f26-828c-b01b9a42f147"
      },
      "execution_count": 34,
      "outputs": [
        {
          "output_type": "stream",
          "name": "stdout",
          "text": [
            "21\n"
          ]
        }
      ]
    },
    {
      "cell_type": "markdown",
      "source": [
        "# 11. Using pen & Paper write the internal mechanism for sum operation using  reduce function on this given\n",
        "# list:[47,11,42,13];\n",
        "\n",
        ">>![WhatsApp Image 2025-08-18 at 11.06.51_69e8c408.jpg](data:image/jpeg;base64,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)"
      ],
      "metadata": {
        "id": "I6kifuifpMwb"
      }
    },
    {
      "cell_type": "code",
      "source": [
        "#wap of given question\n",
        "from functools import reduce\n",
        "\n",
        "nums = [47, 11, 42, 13]\n",
        "result = reduce(lambda x, y: x + y, nums)\n",
        "print(result)\n"
      ],
      "metadata": {
        "colab": {
          "base_uri": "https://localhost:8080/"
        },
        "id": "BzOEcZapsWJ5",
        "outputId": "74a59485-142c-4327-e4e2-0524fe073c08"
      },
      "execution_count": 35,
      "outputs": [
        {
          "output_type": "stream",
          "name": "stdout",
          "text": [
            "113\n"
          ]
        }
      ]
    },
    {
      "cell_type": "markdown",
      "source": [
        "**Practical Questions:**"
      ],
      "metadata": {
        "id": "5ejNif5iti5O"
      }
    },
    {
      "cell_type": "code",
      "source": [
        "# 1.. Write a Python function that takes a list of numbers as input and returns the sum of all even numbers in the list\n",
        "def list_1(n):\n",
        "  sum_Even_number=[]\n",
        "  for i in n:\n",
        "    if i%2==0:\n",
        "      sum_Even_number.append(i)\n",
        "  return sum(sum_Even_number)\n",
        "list1=[100,101,20,15,18,16,19]\n",
        "y=list_1(list1)\n",
        "print(\"Sum of all even number in list is :\",y)"
      ],
      "metadata": {
        "colab": {
          "base_uri": "https://localhost:8080/"
        },
        "id": "OodgEigwpLQE",
        "outputId": "0728c83a-40d0-4758-dde5-e29bd07e8d35"
      },
      "execution_count": 39,
      "outputs": [
        {
          "output_type": "stream",
          "name": "stdout",
          "text": [
            "Sum of all even number in list is : 154\n"
          ]
        }
      ]
    },
    {
      "cell_type": "code",
      "source": [
        "list1=[100,101,20,15,18,16,19]\n",
        "y=reduce(lambda x,y:x+y,list(filter(lambda x:x%2==0,list1)))\n",
        "print(y)"
      ],
      "metadata": {
        "colab": {
          "base_uri": "https://localhost:8080/"
        },
        "id": "LXcBEXZiu3mR",
        "outputId": "68e7e1e6-187c-4440-dcdf-49d86096a7cb"
      },
      "execution_count": 40,
      "outputs": [
        {
          "output_type": "stream",
          "name": "stdout",
          "text": [
            "154\n"
          ]
        }
      ]
    },
    {
      "cell_type": "code",
      "source": [
        "#2. Create a Python function that accepts a string and returns the reverse of that string.\n",
        "def reverse_String(n):\n",
        "  a=n[::-1]\n",
        "  return a\n",
        "x=\"Jai Shree Ram\"\n",
        "y=reverse_String(x)\n",
        "print(\"Reverse of the string is :\",y)"
      ],
      "metadata": {
        "colab": {
          "base_uri": "https://localhost:8080/"
        },
        "id": "JsvUefWVvSkQ",
        "outputId": "1e7058d9-c82e-4de7-b377-6054a3b51ad3"
      },
      "execution_count": 41,
      "outputs": [
        {
          "output_type": "stream",
          "name": "stdout",
          "text": [
            "Reverse of the string is : maR eerhS iaJ\n"
          ]
        }
      ]
    },
    {
      "cell_type": "code",
      "source": [
        "#3. Implement a Python function that takes a list of integers and returns a new list containing the squares of each number:\n",
        "def square_Number(n):\n",
        "  result=[]\n",
        "  for i in n:\n",
        "    result.append(i**2)\n",
        "  return result\n",
        "a=[100,13,41,22,31,11]\n",
        "b=square_Number(a)\n",
        "print(\"Square of the each element in list\",b)"
      ],
      "metadata": {
        "colab": {
          "base_uri": "https://localhost:8080/"
        },
        "id": "1HJIloRdvYqX",
        "outputId": "5da45ecf-f363-46c2-833d-3df95b4a9b6a"
      },
      "execution_count": 45,
      "outputs": [
        {
          "output_type": "stream",
          "name": "stdout",
          "text": [
            "Square of the each element in list [10000, 169, 1681, 484, 961, 121]\n"
          ]
        }
      ]
    },
    {
      "cell_type": "code",
      "source": [
        "#4. Write a Python function that checks if a given number is prime or not from 1 to 200.\n",
        "def is_prime(n):\n",
        "    \"\"\"Check if a number is prime\"\"\"\n",
        "    if n < 2:  # 0 and 1 are not prime\n",
        "        return False\n",
        "    for i in range(2, int(n**0.5) + 1):  # check divisibility up to √n\n",
        "        if n % i == 0:\n",
        "            return False\n",
        "    return True\n",
        "\n",
        "# Test for numbers from 1 to 200\n",
        "for num in range(1, 201):\n",
        "    print(f\"{num} is Prime\" if is_prime(num) else f\"{num} is Not Prime\")\n",
        "\n"
      ],
      "metadata": {
        "colab": {
          "base_uri": "https://localhost:8080/"
        },
        "id": "MxQypZBFx283",
        "outputId": "93cf7225-3a24-4e21-dddb-0403dad2a9ca"
      },
      "execution_count": 51,
      "outputs": [
        {
          "output_type": "stream",
          "name": "stdout",
          "text": [
            "1 is Not Prime\n",
            "2 is Prime\n",
            "3 is Prime\n",
            "4 is Not Prime\n",
            "5 is Prime\n",
            "6 is Not Prime\n",
            "7 is Prime\n",
            "8 is Not Prime\n",
            "9 is Not Prime\n",
            "10 is Not Prime\n",
            "11 is Prime\n",
            "12 is Not Prime\n",
            "13 is Prime\n",
            "14 is Not Prime\n",
            "15 is Not Prime\n",
            "16 is Not Prime\n",
            "17 is Prime\n",
            "18 is Not Prime\n",
            "19 is Prime\n",
            "20 is Not Prime\n",
            "21 is Not Prime\n",
            "22 is Not Prime\n",
            "23 is Prime\n",
            "24 is Not Prime\n",
            "25 is Not Prime\n",
            "26 is Not Prime\n",
            "27 is Not Prime\n",
            "28 is Not Prime\n",
            "29 is Prime\n",
            "30 is Not Prime\n",
            "31 is Prime\n",
            "32 is Not Prime\n",
            "33 is Not Prime\n",
            "34 is Not Prime\n",
            "35 is Not Prime\n",
            "36 is Not Prime\n",
            "37 is Prime\n",
            "38 is Not Prime\n",
            "39 is Not Prime\n",
            "40 is Not Prime\n",
            "41 is Prime\n",
            "42 is Not Prime\n",
            "43 is Prime\n",
            "44 is Not Prime\n",
            "45 is Not Prime\n",
            "46 is Not Prime\n",
            "47 is Prime\n",
            "48 is Not Prime\n",
            "49 is Not Prime\n",
            "50 is Not Prime\n",
            "51 is Not Prime\n",
            "52 is Not Prime\n",
            "53 is Prime\n",
            "54 is Not Prime\n",
            "55 is Not Prime\n",
            "56 is Not Prime\n",
            "57 is Not Prime\n",
            "58 is Not Prime\n",
            "59 is Prime\n",
            "60 is Not Prime\n",
            "61 is Prime\n",
            "62 is Not Prime\n",
            "63 is Not Prime\n",
            "64 is Not Prime\n",
            "65 is Not Prime\n",
            "66 is Not Prime\n",
            "67 is Prime\n",
            "68 is Not Prime\n",
            "69 is Not Prime\n",
            "70 is Not Prime\n",
            "71 is Prime\n",
            "72 is Not Prime\n",
            "73 is Prime\n",
            "74 is Not Prime\n",
            "75 is Not Prime\n",
            "76 is Not Prime\n",
            "77 is Not Prime\n",
            "78 is Not Prime\n",
            "79 is Prime\n",
            "80 is Not Prime\n",
            "81 is Not Prime\n",
            "82 is Not Prime\n",
            "83 is Prime\n",
            "84 is Not Prime\n",
            "85 is Not Prime\n",
            "86 is Not Prime\n",
            "87 is Not Prime\n",
            "88 is Not Prime\n",
            "89 is Prime\n",
            "90 is Not Prime\n",
            "91 is Not Prime\n",
            "92 is Not Prime\n",
            "93 is Not Prime\n",
            "94 is Not Prime\n",
            "95 is Not Prime\n",
            "96 is Not Prime\n",
            "97 is Prime\n",
            "98 is Not Prime\n",
            "99 is Not Prime\n",
            "100 is Not Prime\n",
            "101 is Prime\n",
            "102 is Not Prime\n",
            "103 is Prime\n",
            "104 is Not Prime\n",
            "105 is Not Prime\n",
            "106 is Not Prime\n",
            "107 is Prime\n",
            "108 is Not Prime\n",
            "109 is Prime\n",
            "110 is Not Prime\n",
            "111 is Not Prime\n",
            "112 is Not Prime\n",
            "113 is Prime\n",
            "114 is Not Prime\n",
            "115 is Not Prime\n",
            "116 is Not Prime\n",
            "117 is Not Prime\n",
            "118 is Not Prime\n",
            "119 is Not Prime\n",
            "120 is Not Prime\n",
            "121 is Not Prime\n",
            "122 is Not Prime\n",
            "123 is Not Prime\n",
            "124 is Not Prime\n",
            "125 is Not Prime\n",
            "126 is Not Prime\n",
            "127 is Prime\n",
            "128 is Not Prime\n",
            "129 is Not Prime\n",
            "130 is Not Prime\n",
            "131 is Prime\n",
            "132 is Not Prime\n",
            "133 is Not Prime\n",
            "134 is Not Prime\n",
            "135 is Not Prime\n",
            "136 is Not Prime\n",
            "137 is Prime\n",
            "138 is Not Prime\n",
            "139 is Prime\n",
            "140 is Not Prime\n",
            "141 is Not Prime\n",
            "142 is Not Prime\n",
            "143 is Not Prime\n",
            "144 is Not Prime\n",
            "145 is Not Prime\n",
            "146 is Not Prime\n",
            "147 is Not Prime\n",
            "148 is Not Prime\n",
            "149 is Prime\n",
            "150 is Not Prime\n",
            "151 is Prime\n",
            "152 is Not Prime\n",
            "153 is Not Prime\n",
            "154 is Not Prime\n",
            "155 is Not Prime\n",
            "156 is Not Prime\n",
            "157 is Prime\n",
            "158 is Not Prime\n",
            "159 is Not Prime\n",
            "160 is Not Prime\n",
            "161 is Not Prime\n",
            "162 is Not Prime\n",
            "163 is Prime\n",
            "164 is Not Prime\n",
            "165 is Not Prime\n",
            "166 is Not Prime\n",
            "167 is Prime\n",
            "168 is Not Prime\n",
            "169 is Not Prime\n",
            "170 is Not Prime\n",
            "171 is Not Prime\n",
            "172 is Not Prime\n",
            "173 is Prime\n",
            "174 is Not Prime\n",
            "175 is Not Prime\n",
            "176 is Not Prime\n",
            "177 is Not Prime\n",
            "178 is Not Prime\n",
            "179 is Prime\n",
            "180 is Not Prime\n",
            "181 is Prime\n",
            "182 is Not Prime\n",
            "183 is Not Prime\n",
            "184 is Not Prime\n",
            "185 is Not Prime\n",
            "186 is Not Prime\n",
            "187 is Not Prime\n",
            "188 is Not Prime\n",
            "189 is Not Prime\n",
            "190 is Not Prime\n",
            "191 is Prime\n",
            "192 is Not Prime\n",
            "193 is Prime\n",
            "194 is Not Prime\n",
            "195 is Not Prime\n",
            "196 is Not Prime\n",
            "197 is Prime\n",
            "198 is Not Prime\n",
            "199 is Prime\n",
            "200 is Not Prime\n"
          ]
        }
      ]
    },
    {
      "cell_type": "code",
      "source": [
        "#5. Create an iterator class in Python that generates the Fibonacci sequence up to a specified number of terms.\n",
        "def fibonacci_series(n):\n",
        "  if n==0:\n",
        "    return 0\n",
        "  elif n==1:\n",
        "    return 1\n",
        "  else:\n",
        "    return fibonacci_series(n-1)+fibonacci_series(n-2)\n",
        "x=int(input(\"Enter the number of terms:\"))\n",
        "print(\"Fibonacci series\")\n",
        "for i in range (x):\n",
        "  print((fibonacci_series(i)))"
      ],
      "metadata": {
        "colab": {
          "base_uri": "https://localhost:8080/"
        },
        "id": "v5iiIzAA0n9i",
        "outputId": "151b7dae-4445-4543-fb73-36d485b9f998"
      },
      "execution_count": 59,
      "outputs": [
        {
          "output_type": "stream",
          "name": "stdout",
          "text": [
            "Enter the number of terms:10\n",
            "Fibonacci series\n",
            "0\n",
            "1\n",
            "1\n",
            "2\n",
            "3\n",
            "5\n",
            "8\n",
            "13\n",
            "21\n",
            "34\n"
          ]
        }
      ]
    },
    {
      "cell_type": "code",
      "source": [
        "#6. Write a generator function in Python that yields the powers of 2 up to a given exponent.\n",
        "def Square_number(n):\n",
        "  for i in n:\n",
        "    yield i**2\n",
        "x=[10,20,30,40,50]\n",
        "y=Square_number(x)\n",
        "print((next(y)))\n",
        "print((next(y)))\n",
        "print((next(y)))\n",
        "print((next(y)))\n",
        "print((next(y)))\n",
        "\n",
        "\n",
        "\n"
      ],
      "metadata": {
        "colab": {
          "base_uri": "https://localhost:8080/"
        },
        "id": "KvBHZlHz1W60",
        "outputId": "94a88961-2d7b-4118-b176-bc7e7b205e45"
      },
      "execution_count": 65,
      "outputs": [
        {
          "output_type": "stream",
          "name": "stdout",
          "text": [
            "100\n",
            "400\n",
            "900\n",
            "1600\n",
            "2500\n"
          ]
        }
      ]
    },
    {
      "cell_type": "code",
      "source": [
        "#7. Implement a generator function that reads a file line by line and yields each line as a string\n",
        "def read_file(file_path):\n",
        "  with open(file_path,'r') as file:\n",
        "    for line in file:\n",
        "      yield line\n"
      ],
      "metadata": {
        "id": "8385bUg_33bq"
      },
      "execution_count": 66,
      "outputs": []
    },
    {
      "cell_type": "code",
      "source": [
        "#8. Use a lambda function in Python to sort a list of tuples based on the second element of each tuple.\n",
        "# List of tuples\n",
        "data = [(1, 4), (3, 1), (5, 9), (2, 6)]\n",
        "\n",
        "# Sort by second element using lambda\n",
        "sorted_data = sorted(data, key=lambda x: x[1])\n",
        "\n",
        "print(\"Sorted list:\", sorted_data)\n"
      ],
      "metadata": {
        "colab": {
          "base_uri": "https://localhost:8080/"
        },
        "id": "Ow3upP8M5QuR",
        "outputId": "45c86b38-344f-4eda-dc8f-fb40bcdb105a"
      },
      "execution_count": 67,
      "outputs": [
        {
          "output_type": "stream",
          "name": "stdout",
          "text": [
            "Sorted list: [(3, 1), (1, 4), (2, 6), (5, 9)]\n"
          ]
        }
      ]
    },
    {
      "cell_type": "code",
      "source": [
        "#9. Write a Python program that uses `map()` to convert a list of temperatures from Celsius to Fahrenheit\n",
        "def celsius_to_fahrenheit(celsius):\n",
        "    y=map(lambda x: (x * 9/5) + 32, celsius)\n",
        "    return list(y)\n",
        "a=[45,20,63,55]\n",
        "b=celsius_to_fahrenheit(a)\n",
        "print(\"Temperature in Fahrenheit is :\",b)\n"
      ],
      "metadata": {
        "colab": {
          "base_uri": "https://localhost:8080/"
        },
        "id": "xfOh6OVM5hCN",
        "outputId": "c78efa65-766e-4aca-f43b-8647ecb7741a"
      },
      "execution_count": 68,
      "outputs": [
        {
          "output_type": "stream",
          "name": "stdout",
          "text": [
            "Temperature in Fahrenheit is : [113.0, 68.0, 145.4, 131.0]\n"
          ]
        }
      ]
    },
    {
      "cell_type": "code",
      "source": [
        "#10. Create a Python program that uses `filter()` to remove all the vowels from a given string.\n",
        "def remove_vowels(s):\n",
        "    vowels = \"aeiouAEIOU\"\n",
        "    return \"\".join(filter(lambda ch: ch not in vowels, s))\n",
        "\n",
        "# Example usage\n",
        "text = \"Beautiful Day\"\n",
        "result = remove_vowels(text)\n",
        "print(\"Original String:\", text)\n",
        "print(\"Without Vowels:\", result)\n"
      ],
      "metadata": {
        "colab": {
          "base_uri": "https://localhost:8080/"
        },
        "id": "yp93f2AU6SLk",
        "outputId": "cc55762d-cdd8-4edc-9ac9-b07d100e5a8c"
      },
      "execution_count": 69,
      "outputs": [
        {
          "output_type": "stream",
          "name": "stdout",
          "text": [
            "Original String: Beautiful Day\n",
            "Without Vowels: Btfl Dy\n"
          ]
        }
      ]
    },
    {
      "cell_type": "code",
      "source": [
        "#Write a Python program, which returns a list with 2-tuples. Each tuple consists of the order number and the\n",
        "#product of the price per item and the quantity. The product should be increased by 10,- € if the value of the\n",
        "#order is smaller than 100,00 €.\n",
        "\n",
        "#Write a Python program using lambda and map#\n",
        "\n",
        "\n",
        "orders = [\n",
        "    (34587, 4, 40.95),\n",
        "    (98762, 5, 56.80),\n",
        "    (77226, 3, 32.95),\n",
        "    (88112, 3, 24.99)\n",
        "]\n",
        "\n",
        "result = list(map(lambda x: (x[0], x[1] * x[2] if x[1] * x[2] >= 100 else x[1] * x[2] + 10), orders))\n",
        "\n",
        "print(result)"
      ],
      "metadata": {
        "colab": {
          "base_uri": "https://localhost:8080/"
        },
        "id": "Znet_JFo7JCo",
        "outputId": "ae991b8a-3fd9-44de-c207-0d5743cfcc1b"
      },
      "execution_count": 70,
      "outputs": [
        {
          "output_type": "stream",
          "name": "stdout",
          "text": [
            "[(34587, 163.8), (98762, 284.0), (77226, 108.85000000000001), (88112, 84.97)]\n"
          ]
        }
      ]
    }
  ]
}