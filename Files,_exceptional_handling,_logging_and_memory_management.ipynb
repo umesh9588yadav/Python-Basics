{
  "cells": [
    {
      "cell_type": "markdown",
      "metadata": {
        "id": "i8NcJEh16OPR"
      },
      "source": [
        "# **1. What is the difference between interpreted and compiled languages?**\n",
        ">>> Compiled Languages\n",
        "\n",
        "Definition: Source code is translated (compiled) into machine code before execution.\n",
        "\n",
        "Execution speed: Faster (because the code is already in machine language).\n",
        "\n",
        "Portability: Less portable (you usually need to recompile for different operating systems/architectures).\n",
        "\n",
        "Examples: C, C++, Rust, Go.\n",
        ">>>Interpreted Languages\n",
        "\n",
        "Definition: Source code is translated line by line at runtime by an interpreter.\n",
        "\n",
        "Execution speed: Slower (translation happens during execution).\n",
        "\n",
        "Portability: More portable (interpreter handles platform differences).\n",
        "\n",
        "Examples: Python, JavaScript, Ruby, PHP."
      ]
    },
    {
      "cell_type": "markdown",
      "metadata": {
        "id": "wynAnGcS6qqb"
      },
      "source": [
        "# **2. What is exception handling in Python?**\n",
        ">>>Exception handling in Python is a mechanism that allows a program to detect, handle, and respond to runtime errors (exceptions) using the keywords try, except, else, and finally, so that the program does not terminate abruptly and can continue execution in a controlled manner."
      ]
    },
    {
      "cell_type": "markdown",
      "metadata": {
        "id": "xYp6CQmWcoWU"
      },
      "source": [
        "# **3.What is the purpose of the finally block in exception handling?**\n",
        ">>The finally block in Python is used to define code that will always execute, whether an exception occurs or not.\n",
        "\n",
        "   Its main purpose is to perform cleanup operations such as:\n",
        "\n",
        "Closing a file or database connection\n",
        "\n",
        "Releasing system resources\n",
        "\n",
        "Printing/logging final messages"
      ]
    },
    {
      "cell_type": "markdown",
      "metadata": {
        "id": "9CggrcVrc51_"
      },
      "source": [
        "# **4.What is logging in Python?**\n",
        ">>Logging in Python is the process of recording events, errors, warnings, or informational messages that occur while a program is running.\n",
        "It helps developers debug, monitor, and track the flow of the program without using print() statements"
      ]
    },
    {
      "cell_type": "markdown",
      "metadata": {
        "id": "GkIoMrwhdJ-A"
      },
      "source": [
        "# **5.What is the significance of the __del__ method in Python?**\n",
        ">>The  __del__ method in Python is a destructor method that is automatically called when an object is about to be destroyed (i.e., when it is no longer in use, and its memory is being released by the garbage collector).\n",
        "\n",
        "Significance of __del__\n",
        "\n",
        "It allows you to define cleanup code for objects before they are deleted.\n",
        "\n",
        "Useful for releasing resources such as:\n",
        "\n",
        "Closing files\n",
        "\n",
        "Releasing database connections\n",
        "\n",
        "Freeing network resources\n",
        "\n",
        "Provides a way to track object deletion for debugging."
      ]
    },
    {
      "cell_type": "markdown",
      "metadata": {
        "id": "qMdeT_QLdh0W"
      },
      "source": [
        "# **6. What is the difference between import and from ... import in Python?**\n",
        ">>Difference between import and from ... import in Python....\n",
        "  n Python, the import statement is used to bring an entire module into a program, which means you must access its functions, classes, or variables using the module name as a prefix (e.g., math.sqrt(16)). On the other hand, the from ... import statement allows you to import specific items directly from a module, so you can use them without the module prefix (e.g., sqrt(16) after from math import sqrt). While import makes the code more explicit and avoids name conflicts, from ... import can make the code shorter and easier to read when you only need a few items from a module.\n",
        "  \n",
        "  "
      ]
    },
    {
      "cell_type": "markdown",
      "metadata": {
        "id": "YwROkGRSf_qf"
      },
      "source": [
        "# **7.How can you handle multiple exceptions in Python?**\n",
        ">> In Python, multiple exceptions can be handled either by using separate except blocks or by grouping multiple exceptions within a single except statement. When using multiple except blocks, each block is dedicated to handling a specific type of exception, making the error handling more precise and readable. For example, a ValueError and a ZeroDivisionError can be caught separately with two except clauses. Alternatively, if different exceptions need the same handling logic, they can be grouped together in a single except block by placing them inside a tuple, such as except (ValueError, TypeError):. Additionally, a general except Exception as e: block can be used as a catch-all to handle unexpected errors, though it is considered best practice to catch specific exceptions whenever possible for clarity and reliability."
      ]
    },
    {
      "cell_type": "markdown",
      "metadata": {
        "id": "oFiAc1AOgaWk"
      },
      "source": [
        "# **8.What is the purpose of the with statement when handling files in Python?**\n",
        ">>Purpose of the with Statement in Python (when handling files)\n",
        "\n",
        "The with statement in Python is used to simplify file handling by ensuring that resources like files are properly opened and closed. When you open a file using with, Python automatically takes care of closing the file once the block of code is executed, even if an exception occurs inside the block.\n",
        "\n",
        "This makes code cleaner, safer, and less error-prone, since you don’t have to explicitly call file.close()"
      ]
    },
    {
      "cell_type": "markdown",
      "metadata": {
        "id": "9_gOhHWCguLL"
      },
      "source": [
        "# **9. What is the difference between multithreading and multiprocessing?**\n",
        ">>Multithreading\n",
        "\n",
        "Runs multiple threads within a single process.\n",
        "\n",
        "All threads share the same memory space.\n",
        "\n",
        "Best suited for I/O-bound tasks (e.g., file I/O, web scraping, network calls).\n",
        "\n",
        "Affected by Python’s Global Interpreter Lock (GIL) – only one thread executes Python code at a time.\n",
        "\n",
        "If one thread crashes, it may affect the entire process.\n",
        "\n",
        "\n",
        "🔹 Multiprocessing\n",
        "\n",
        "Runs multiple processes, each having its own memory space.\n",
        "\n",
        "Best suited for CPU-bound tasks (e.g., heavy calculations, data processing).\n",
        "\n",
        "Not affected by the GIL, since each process runs independently.\n",
        "\n",
        "If one process crashes, others are not affected.\n",
        "\n",
        "Slightly higher overhead (slower to start), but allows true parallelism."
      ]
    },
    {
      "cell_type": "markdown",
      "metadata": {
        "id": "0FZ0htdyhZsc"
      },
      "source": [
        "# **10.What are the advantages of using logging in a program?**\n",
        ">>Advantages of Using Logging in a Program\n",
        "\n",
        "1.Better than print()\n",
        "\n",
        "  Unlike print(), logging provides different levels (DEBUG, INFO, WARNING, ERROR, CRITICAL) for structured debugging and monitoring.\n",
        "\n",
        "2. Helps in Debugging\n",
        "\n",
        "Logs record detailed information about program execution, which makes it easier to trace and fix errors.\n",
        "\n",
        "3. Persistent Records\n",
        "\n",
        "Log messages can be stored in files, databases, or external systems for future analysis.\n",
        "\n",
        "4. Error Tracking\n",
        "\n",
        "Helps track errors, warnings, and unusual events that occur during execution.\n",
        "\n",
        "5. Program Monitoring\n",
        "\n",
        "Logging can show how the program is running in real time, useful for production systems.\n",
        "\n",
        "6. Flexibility and Control\n",
        "\n",
        "Developers can configure log format, log level, and output location (console, file, server, etc.).\n",
        "\n",
        "7. No Need to Remove Debug Code\n",
        "\n",
        "Unlike print() statements, logging can be easily enabled/disabled or filtered by severity without changing the code structure."
      ]
    },
    {
      "cell_type": "markdown",
      "metadata": {
        "id": "HrBiAW0CiFcw"
      },
      "source": [
        "# **11.hat is memory management in Python?**\n",
        ">>Memory management in Python is the process of efficiently handling the allocation and deallocation of memory for variables, objects, and data structures during program execution. Python uses a private heap space to store all objects, and the Python Memory Manager takes care of allocating memory to objects and freeing it when no longer needed. To automate this, Python uses Garbage Collection (GC), which reclaims memory by deleting objects that are no longer referenced in the program.\n",
        "\n",
        "Additionally, Python employs reference counting (tracking how many references point to an object) as its primary memory management technique, and when the reference count drops to zero, the object is removed from memory. For cyclic references (e.g., objects referring to each other), Python’s garbage collector ensures cleanup."
      ]
    },
    {
      "cell_type": "markdown",
      "metadata": {
        "id": "FxyJmr6Ii7bg"
      },
      "source": [
        "**12.What are the basic steps involved in exception handling in Python?**\n",
        ">>Basic Steps Involved in Exception Handling in Python\n",
        "\n",
        "**1. Identify Risky Code**\n",
        "\n",
        "Place the code that may cause an error inside a try block.\n",
        "\n",
        "**2. Handle the Exception**\n",
        "\n",
        "Use one or more except blocks to catch and handle specific exceptions.\n",
        "\n",
        "**3. Optional: Execute if No Error**\n",
        "\n",
        "Use the else block to run code only if no exception occurred in the try block.\n",
        "\n",
        "**4. Optional: Cleanup Actions**\n",
        "\n",
        "Use the finally block to write code that should run no matter what (e.g., closing files, releasing resources)."
      ]
    },
    {
      "cell_type": "markdown",
      "metadata": {
        "id": "kuxLtEfjjcEm"
      },
      "source": [
        "# **13.Why is memory management important in Python?**\n",
        ">>Why Memory Management is Important in Python\n",
        "\n",
        "**1.Efficient Use of Resources**\n",
        "\n",
        "Prevents wastage of memory by allocating only what is needed and freeing unused memory.\n",
        "\n",
        "**2.Improves Program Performance**\n",
        "\n",
        "Optimized memory usage makes Python programs run faster and smoother.\n",
        "\n",
        "**3. Prevents Memory Leaks**\n",
        "\n",
        "Automatic garbage collection ensures that unused objects don’t keep occupying memory unnecessarily.\n",
        "\n",
        "**4. Simplifies Developmen**t\n",
        "\n",
        "Python manages memory automatically (via reference counting and garbage collection), so developers can focus on logic rather than manual memory handling.\n",
        "\n",
        "**5. Supports Large Applications**\n",
        "\n",
        "Proper memory management allows Python to handle large data sets and complex applications without frequent crashes.\n",
        "\n",
        "**6.Ensures Stability and Reliability**\n",
        "\n",
        "By reclaiming memory safely, it avoids program crashes or unexpected behavior due to memory overflow."
      ]
    },
    {
      "cell_type": "markdown",
      "metadata": {
        "id": "HmozyZMPj_me"
      },
      "source": [
        "# **14. What is the role of try and except in exception handling?**\n",
        ">>Role of try and except in Exception Handling\n",
        "\n",
        "In Python, the try and except blocks form the foundation of exception handling. The try block is used to enclose the code that may raise an error during execution. If no error occurs, the code runs normally. However, if an error is raised inside the try block, the normal flow of the program is interrupted, and Python immediately looks for a matching except block. The except block is used to catch and handle that exception gracefully, preventing the program from crashing. Different types of exceptions (like ValueError, ZeroDivisionError, etc.) can have their own except blocks for specific handling."
      ]
    },
    {
      "cell_type": "markdown",
      "metadata": {
        "id": "u3yRZiMSkUUn"
      },
      "source": [
        "# **15. How does Python's garbage collection system work?**\n",
        ">>Python has an automatic garbage collection system that reclaims memory occupied by objects that are no longer needed. It mainly works in two ways:\n",
        "\n",
        "🔹 1. Reference Counting\n",
        "\n",
        "Every object in Python keeps track of the number of references pointing to it.\n",
        "\n",
        "When a new reference is created, the count increases; when a reference is deleted, the count decreases.\n",
        "\n",
        "If the reference count drops to zero, the memory occupied by that object is immediately freed.\n",
        "\n",
        "2. Garbage Collector (for Cyclic References)\n",
        "\n",
        "Sometimes objects reference each other, creating a cycle (e.g., object A refers to B and B refers to A).\n",
        "\n",
        "Reference counting alone cannot handle this, because the count never reaches zero.\n",
        "\n",
        "Python’s garbage collector (gc module) periodically detects such cycles and cleans them up.\n",
        "\n",
        "🔹 3. Generational Garbage Collection\n",
        "\n",
        "Python organizes objects into three generations (young, middle-aged, old).\n",
        "\n",
        "Newly created objects start in the first generation.\n",
        "\n",
        "Objects that survive garbage collection are promoted to older generations.\n",
        "\n",
        "Collections run more often on younger generations, since short-lived objects are common"
      ]
    },
    {
      "cell_type": "markdown",
      "metadata": {
        "id": "brQ83Jrqk5sO"
      },
      "source": [
        "# **16.What is the purpose of the else block in exception handling?**\n",
        ">>In Python’s exception handling, the else block is used to define code that should run only if no exception occurs in the try block. This makes programs cleaner by separating the error-handling logic (inside except) from the normal execution logic (inside else). The else block is optional, but it is useful when you want certain code to execute only after the try block has run successfully without raising an exception."
      ]
    },
    {
      "cell_type": "markdown",
      "metadata": {
        "id": "3LrUESfvmAIq"
      },
      "source": [
        "# **17.What are the common logging levels in Python?**\n",
        ">>Python’s logging module provides predefined logging levels to indicate the severity of messages. These levels help categorize logs for debugging and monitoring.\n",
        "\n",
        "**1.DEBUG (10)**\n",
        "\n",
        "Lowest level, used for detailed diagnostic information.\n",
        "\n",
        "Example: tracking variable values during development.\n",
        "\n",
        "**2.INFO (20)**\n",
        "\n",
        "General information about program execution.\n",
        "\n",
        "Example: confirming that a function has run successfully.\n",
        "\n",
        "**3.WARNING (30)**\n",
        "\n",
        "Indicates something unexpected happened, but the program can still continue.\n",
        "\n",
        "Example: deprecated feature usage, low disk space.\n",
        "\n",
        "**4.ERROR (40)**\n",
        "\n",
        "A serious issue that caused part of the program to fail.\n",
        "\n",
        "Example: failing to open a required file.\n",
        "\n",
        "5.CRITICAL (50)\n",
        "**bold text**\n",
        "Highest level, indicates a very serious error"
      ]
    },
    {
      "cell_type": "markdown",
      "metadata": {
        "id": "4-qKok9omuHs"
      },
      "source": [
        "**18. What is the difference between os.fork() and multiprocessing in Python?**\n",
        ">>🔹 1. os.fork()\n",
        "\n",
        "1. Available only on Unix/Linux systems (not supported on Windows).\n",
        "\n",
        "2 .Creates a new child process by duplicating the current process.\n",
        "\n",
        "3. Both parent and child processes continue execution from the point where fork() was called.\n",
        "\n",
        "4. Very low-level; requires manual handling of inter-process communication (pipes, signals, etc.).\n",
        "\n",
        "5. Less portable and harder to manage in large applications.\n",
        "\n",
        "🔹 2. multiprocessing Module\n",
        "\n",
        "1. Works on all major platforms (Windows, Linux, macOS).\n",
        "\n",
        "2. Provides a high-level API for creating and managing multiple processes.\n",
        "\n",
        "3. Supports features like Process, Pool, Queue, Pipe, Lock, making inter-process communication easier.\n",
        "\n",
        "4. Handles differences between operating systems internally.\n",
        "\n",
        "5. More user-friendly and portable than os.fork()."
      ]
    },
    {
      "cell_type": "markdown",
      "metadata": {
        "id": "2DMJ0L-knQXY"
      },
      "source": [
        "## 19.What is the importance of closing a file in Python?\n",
        ">>When you open a file in Python using open(), system resources like memory and file handles are allocated to manage that file. Closing a file with close() is important because it frees these resources and ensures that all data written to the file is properly saved (flushed) from the buffer to the disk. If a file is not closed, changes may not be saved correctly, which can lead to data loss or corruption. Moreover, keeping files open unnecessarily can consume system resources, causing issues in large applications or when working with many files at once.\n",
        "\n",
        "Using the with statement is the recommended way to handle files, as it automatically closes the file after the block of code is executed, even if an exception occurs."
      ]
    },
    {
      "cell_type": "markdown",
      "metadata": {
        "id": "so42X6LinpOM"
      },
      "source": [
        "# **20. What is the difference between file.read() and file.readline() in Python?**\n",
        ">>🔹 file.read()\n",
        "\n",
        "1. Reads the entire file content (or a specified number of bytes/characters if given).\n",
        "\n",
        "2. Returns the content as a single string.\n",
        "\n",
        "3. Useful when you want to process the whole file at once\n",
        "\n",
        "🔹 file.readline()\n",
        "\n",
        "1. Reads only one line from the file at a time.\n",
        "\n",
        "2. Returns the line as a string (including the newline \\n at the end).\n",
        "\n",
        "3. Useful when you want to process a file line by line."
      ]
    },
    {
      "cell_type": "markdown",
      "metadata": {
        "id": "wNURU097oMCb"
      },
      "source": [
        "# **21.What is the logging module in Python used for?**\n",
        ">>Logging Module in Python\n",
        "\n",
        "The logging module in Python is a built-in library used to record messages about a program’s execution. It allows developers to track events, debug issues, monitor errors, and record information without relying on print() statements. The module provides different logging levels (DEBUG, INFO, WARNING, ERROR, CRITICAL) to categorize messages based on severity.\n",
        "\n",
        "With logging, messages can be sent not only to the console but also to files, streams, or external systems, making it useful for both development and production environments. It also supports customizable formats, timestamps, and log file rotation, which makes it more powerful and flexible than simple debugging prints."
      ]
    },
    {
      "cell_type": "markdown",
      "metadata": {
        "id": "qad4fhUlrJXt"
      },
      "source": [
        "# **22. What is the os module in Python used for in file handling?**\n",
        ">>os Module in Python for File Handling\n",
        "\n",
        "The os module in Python provides functions to interact with the operating system, especially for working with files and directories. In file handling, the os module is used to perform operations such as creating, deleting, renaming, and navigating files or folders. It also allows checking file properties (like existence, size, or permissions) and managing paths in a platform-independent way.\n",
        "\n",
        "Some commonly used functions include:\n",
        "\n",
        "os.rename() → Rename a file or directory.\n",
        "\n",
        "os.remove() → Delete a file.\n",
        "\n",
        "os.mkdir() / os.rmdir() → Create or remove a directory.\n",
        "\n",
        "os.getcwd() → Get the current working directory.\n",
        "\n",
        "os.chdir() → Change the current working directory.\n",
        "\n",
        "os.path.exists() → Check if a file or directory exists."
      ]
    },
    {
      "cell_type": "markdown",
      "metadata": {
        "id": "MxJZAzQarmaz"
      },
      "source": [
        "# ***23.What are the challenges associated with memory management in Python?***\n",
        ">>Challenges Associated with Memory Management in Python\n",
        "\n",
        "Global Interpreter Lock (GIL)\n",
        "\n",
        "In CPython, the GIL allows only one thread to execute at a time, which can limit true parallelism and efficient memory usage in multithreaded programs.\n",
        "\n",
        "Garbage Collection Overhead\n",
        "\n",
        "Python’s garbage collector (GC) automatically reclaims unused memory, but frequent collection cycles may add performance overhead.\n",
        "\n",
        "Reference Cycles\n",
        "\n",
        "Objects referencing each other (cyclic references) may delay memory release, as simple reference counting cannot clean them immediately.\n",
        "\n",
        "Memory Fragmentation\n",
        "\n",
        "Long-running programs may suffer from fragmented memory, where free space is scattered, leading to inefficient memory usage.\n",
        "\n",
        "High Memory Usage\n",
        "\n",
        "Python objects are more memory-intensive compared to low-level languages like C or C++, due to metadata storage and dynamic typing.\n",
        "\n",
        "Delayed Deallocation\n",
        "\n",
        "Some objects (especially in cyclic references) may not be freed right away, causing memory to stay occupied longer than expected.\n",
        "\n",
        "Scalability Issues\n",
        "\n",
        "For applications dealing with large datasets (like AI/ML or big data), managing memory efficiently in Python can be challenging compared to lower-level languages."
      ]
    },
    {
      "cell_type": "markdown",
      "metadata": {
        "id": "8LMRgSfxr-Va"
      },
      "source": [
        "# **24.How do you raise an exception manually in Python?**\n",
        "In Python, you can raise an exception manually using the raise keyword. This is useful when you want to signal that an error has occurred, even if Python itself doesn’t detect it. By raising exceptions, you can enforce conditions, validate inputs, or stop the program when something unexpected happens."
      ]
    },
    {
      "cell_type": "markdown",
      "metadata": {
        "id": "NzRTxlySsPrS"
      },
      "source": [
        "# **25.F Why is it important to use multithreading in certain applications?**\n",
        ">>Importance of Using Multithreading in Certain Applications\n",
        "\n",
        "Improves Performance in I/O-Bound Tasks\n",
        "\n",
        "Multithreading is very effective when tasks involve waiting (e.g., file I/O, network requests, database queries). While one thread waits, another can continue executing.\n",
        "\n",
        "Better Resource Utilization\n",
        "\n",
        "Threads share the same memory space, so switching between them is faster than creating separate processes.\n",
        "\n",
        "Responsiveness in Applications\n",
        "\n",
        "In GUI applications, multithreading helps keep the interface responsive while background tasks (like downloads or calculations) run in parallel.\n",
        "\n",
        "Parallel Task Execution\n",
        "\n",
        "Multiple tasks (e.g., reading files, fetching API data, logging) can be handled simultaneously, improving efficiency.\n",
        "\n",
        "Reduced Latency\n",
        "\n",
        "Multithreading can reduce the waiting time in real-time applications such as gaming, chat apps, or live data streaming.\n",
        "\n",
        "Scalability for Concurrent Users\n",
        "\n",
        "In server applications (e.g., web servers), multithreading allows handling multiple client requests concurrently without blocking."
      ]
    },
    {
      "cell_type": "markdown",
      "metadata": {
        "id": "mT9OhhLKsnnv"
      },
      "source": [
        "**Pratical Questions**"
      ]
    },
    {
      "cell_type": "code",
      "execution_count": null,
      "metadata": {
        "id": "Ll2u0_X4j-xo"
      },
      "outputs": [],
      "source": [
        "# 1. How can you open a file for writing in Python and write a string to it?\n",
        "# Open file in write mode\n",
        "f = open(\"example.txt\", \"w\")\n",
        "\n",
        "# Write a string to the file\n",
        "f.write(\"Hello, this is a test string!\")\n",
        "\n",
        "# Close the file\n",
        "f.close()\n"
      ]
    },
    {
      "cell_type": "code",
      "execution_count": null,
      "metadata": {
        "colab": {
          "base_uri": "https://localhost:8080/"
        },
        "id": "JRF42MU1tEvf",
        "outputId": "b3d65b5a-dca8-4c5d-e81e-476f6b8502e8"
      },
      "outputs": [
        {
          "name": "stdout",
          "output_type": "stream",
          "text": [
            "Hello, this is a test string!\n"
          ]
        }
      ],
      "source": [
        "#2.Write a Python program to read the contents of a file and print each line\n",
        "f=open(\"example.txt\",\"r\")\n",
        "print(f.read())"
      ]
    },
    {
      "cell_type": "code",
      "execution_count": null,
      "metadata": {
        "colab": {
          "base_uri": "https://localhost:8080/"
        },
        "id": "By9MP9YEtWjj",
        "outputId": "ea8378f1-b666-47aa-ae6c-7bfa4f8f1828"
      },
      "outputs": [
        {
          "name": "stdout",
          "output_type": "stream",
          "text": [
            "Error: The file does not exist.\n"
          ]
        }
      ],
      "source": [
        "#3. How would you handle a case where the file doesn't exist while trying to open it for reading ?\n",
        "try:\n",
        "    with open(\"non_existing_file.txt\", \"r\") as f:\n",
        "        content = f.read()\n",
        "        print(content)\n",
        "except FileNotFoundError:\n",
        "    print(\"Error: The file does not exist.\")\n",
        "\n"
      ]
    },
    {
      "cell_type": "code",
      "execution_count": null,
      "metadata": {
        "colab": {
          "base_uri": "https://localhost:8080/"
        },
        "id": "Sqin6nEdt1ZF",
        "outputId": "7c202b2e-17ed-442b-faa3-8932ca931db9"
      },
      "outputs": [
        {
          "name": "stdout",
          "output_type": "stream",
          "text": [
            "File content copied successfully!\n"
          ]
        }
      ],
      "source": [
        "#4.Write a Python script that reads from one file and writes its content to another file?\n",
        "# File copy script: Read from one file and write to another\n",
        "\n",
        "# Open source file for reading\n",
        "#Example.txt file exist already\n",
        "with open(\"example.txt\", \"r\") as src:\n",
        "    content = src.read()   # Read entire content\n",
        "\n",
        "# Open destination file for writing\n",
        "with open(\"destination.txt\", \"w\") as dest:\n",
        "    dest.write(content)    # Write content into new file\n",
        "\n",
        "print(\"File content copied successfully!\")\n"
      ]
    },
    {
      "cell_type": "code",
      "execution_count": null,
      "metadata": {
        "colab": {
          "base_uri": "https://localhost:8080/"
        },
        "id": "z5RcB0INulhs",
        "outputId": "279b2ee3-5495-46c9-cc7f-eea052c8c51d"
      },
      "outputs": [
        {
          "name": "stdout",
          "output_type": "stream",
          "text": [
            "Enter a number:10\n",
            "Enter another number:0\n",
            "Error: Division by zero is not allowed.\n"
          ]
        }
      ],
      "source": [
        "# 5 How would you catch and handle division by zero error in Python?\n",
        "\n",
        "try:\n",
        "  x=int(input(\"Enter a number:\"))\n",
        "  y=int(input(\"Enter another number:\"))\n",
        "  result=x/y\n",
        "  print(\"Result:\",result)\n",
        "except ZeroDivisionError:\n",
        "  print(\"Error: Division by zero is not allowed.\")"
      ]
    },
    {
      "cell_type": "code",
      "execution_count": null,
      "metadata": {
        "colab": {
          "base_uri": "https://localhost:8080/"
        },
        "id": "w0pOStHhvXQG",
        "outputId": "094d0a49-0aad-44d3-a8d8-f42955ab4187"
      },
      "outputs": [
        {
          "name": "stderr",
          "output_type": "stream",
          "text": [
            "ERROR:root:Division by zero occurred: division by zero\n"
          ]
        },
        {
          "name": "stdout",
          "output_type": "stream",
          "text": [
            "Program finished. Check 'errors.log' for details.\n"
          ]
        }
      ],
      "source": [
        "#6.Write a Python program that logs an error message to a log file when a division by zero exception occurs\n",
        "import logging\n",
        "\n",
        "# Configure logging\n",
        "logging.basicConfig(\n",
        "    filename=\"errors.log\",       # Log file name\n",
        "    level=logging.ERROR,         # Only log errors and above\n",
        "    format=\"%(asctime)s - %(levelname)s - %(message)s\"\n",
        ")\n",
        "\n",
        "try:\n",
        "    a = 10\n",
        "    b = 0\n",
        "    result = a / b\n",
        "except ZeroDivisionError as e:\n",
        "    logging.error(\"Division by zero occurred: %s\", e)\n",
        "\n",
        "print(\"Program finished. Check 'errors.log' for details.\")\n"
      ]
    },
    {
      "cell_type": "code",
      "execution_count": null,
      "metadata": {
        "colab": {
          "base_uri": "https://localhost:8080/"
        },
        "id": "XqJQJ0YKvxUC",
        "outputId": "6124d3cf-e17e-43e3-84d4-34dd3896c554"
      },
      "outputs": [
        {
          "name": "stderr",
          "output_type": "stream",
          "text": [
            "WARNING:root:This is a warning message\n",
            "ERROR:root:This is an error message\n"
          ]
        }
      ],
      "source": [
        "#7 How do you log information at different levels (INFO, ERROR, WARNING) in Python using the logging module?\n",
        "import logging\n",
        "logging.basicConfig( filename=\"app.log\",level=logging.INFO ,format=\"%(asctime)s-  %(levelname)s -  %(message)s\")\n",
        "logging.info(\"This is an info message\")\n",
        "logging.warning(\"This is a warning message\")\n",
        "logging.error(\"This is an error message\")\n"
      ]
    },
    {
      "cell_type": "code",
      "execution_count": null,
      "metadata": {
        "colab": {
          "base_uri": "https://localhost:8080/"
        },
        "id": "HwUx_LYkvxHf",
        "outputId": "e5a2d403-946d-43c2-c1f8-4e830ce4763d"
      },
      "outputs": [
        {
          "name": "stdout",
          "output_type": "stream",
          "text": [
            "Error: The file does not exist.\n"
          ]
        }
      ],
      "source": [
        "#8 Write a program to handle a file opening error using exception handling?\n",
        "try:\n",
        "    with open(\"non_existing_file.txt\", \"r\") as f:\n",
        "        content = f.read()\n",
        "        print(content)\n",
        "except FileNotFoundError:\n",
        "    print(\"Error: The file does not exist.\")\n"
      ]
    },
    {
      "cell_type": "code",
      "execution_count": null,
      "metadata": {
        "colab": {
          "base_uri": "https://localhost:8080/"
        },
        "id": "HwrtcF_vxQ_k",
        "outputId": "ec238443-fbe7-417a-c90f-a120f771887c"
      },
      "outputs": [
        {
          "name": "stdout",
          "output_type": "stream",
          "text": [
            "['Hello world\\n', 'How are you']\n"
          ]
        }
      ],
      "source": [
        "#How can you read a file line by line and store its content in a list in Python?\n",
        "f=open(\"example.txt\",\"r\")\n",
        "\n",
        "lines=f.readlines()\n",
        "print(lines)\n",
        "\n",
        "f.close()"
      ]
    },
    {
      "cell_type": "code",
      "execution_count": null,
      "metadata": {
        "colab": {
          "base_uri": "https://localhost:8080/"
        },
        "id": "WhfVk6ncz_ZN",
        "outputId": "8121406a-cfdd-4a5c-ee3c-d6292cf5622a"
      },
      "outputs": [
        {
          "name": "stdout",
          "output_type": "stream",
          "text": [
            "Data appended successfully!\n"
          ]
        }
      ],
      "source": [
        "#10  How can you append data to an existing file in Python\u001f\n",
        "# Open file in append mode\n",
        "with open(\"example.txt\", \"a\") as f:\n",
        "    f.write(\"\\nThis is a new line added at the end.\\n\")\n",
        "\n",
        "print(\"Data appended successfully!\")\n"
      ]
    },
    {
      "cell_type": "code",
      "execution_count": null,
      "metadata": {
        "colab": {
          "base_uri": "https://localhost:8080/"
        },
        "id": "lCqw1Cqu0Zoi",
        "outputId": "9d88f535-d98b-4834-8c61-0b63051bcf5f"
      },
      "outputs": [
        {
          "name": "stdout",
          "output_type": "stream",
          "text": [
            "Error: The key 'grade' does not exist in the dictionary.\n"
          ]
        }
      ],
      "source": [
        "#11 Write a Python program that uses a try-except block to handle an error when attempting to access a\n",
        "#dictionary key that doesn't exist\n",
        "# Dictionary with some key-value pairs\n",
        "student = {\n",
        "    \"name\": \"Alice\",\n",
        "    \"age\": 21,\n",
        "    \"course\": \"Computer Science\"\n",
        "}\n",
        "\n",
        "try:\n",
        "    # Trying to access a key that doesn't exist\n",
        "    print(\"Grade:\", student[\"grade\"])\n",
        "except KeyError as e:\n",
        "    print(f\"Error: The key '{e.args[0]}' does not exist in the dictionary.\")\n"
      ]
    },
    {
      "cell_type": "code",
      "execution_count": null,
      "metadata": {
        "colab": {
          "base_uri": "https://localhost:8080/"
        },
        "id": "RUkzlNvF0yBu",
        "outputId": "0868fd4b-07b6-401b-f16f-879945ce10e0"
      },
      "outputs": [
        {
          "name": "stdout",
          "output_type": "stream",
          "text": [
            "Enter numerator: 50\n",
            "Enter denominator: 0\n",
            "Error: You tried to divide by zero.\n"
          ]
        }
      ],
      "source": [
        "# 12 Write a program that demonstrates using multiple except blocks to handle different types of exceptions\n",
        "try:\n",
        "    # Example 1: Division (may cause ZeroDivisionError)\n",
        "    a = int(input(\"Enter numerator: \"))\n",
        "    b = int(input(\"Enter denominator: \"))\n",
        "    result = a / b\n",
        "\n",
        "    # Example 2: Accessing dictionary key (may cause KeyError)\n",
        "    student = {\"name\": \"Alice\", \"age\": 21}\n",
        "    print(\"Course:\", student[\"course\"])\n",
        "\n",
        "except ZeroDivisionError:\n",
        "    print(\"Error: You tried to divide by zero.\")\n",
        "except ValueError:\n",
        "    print(\"Error: Invalid input, please enter numbers only.\")\n",
        "except KeyError as e:\n",
        "    print(f\"Error: The key '{e.args[0]}' does not exist in the dictionary.\")\n"
      ]
    },
    {
      "cell_type": "code",
      "execution_count": null,
      "metadata": {
        "colab": {
          "base_uri": "https://localhost:8080/"
        },
        "id": "3vNAJGBs1MrM",
        "outputId": "b4a99634-6428-43b6-9f40-f9a1fcbf1035"
      },
      "outputs": [
        {
          "name": "stdout",
          "output_type": "stream",
          "text": [
            "Error: File does not exist.\n"
          ]
        }
      ],
      "source": [
        "# 13 How would you check if a file exists before attempting to read it in Python?\n",
        "import os\n",
        "\n",
        "filename = \"sample.txt\"\n",
        "\n",
        "if os.path.exists(filename):\n",
        "    with open(filename, \"r\") as f:\n",
        "        content = f.read()\n",
        "        print(content)\n",
        "else:\n",
        "    print(\"Error: File does not exist.\")\n"
      ]
    },
    {
      "cell_type": "code",
      "execution_count": null,
      "metadata": {
        "colab": {
          "base_uri": "https://localhost:8080/"
        },
        "id": "BfFbEwC71wf1",
        "outputId": "195846d8-a963-4989-a2af-440d5e052d30"
      },
      "outputs": [
        {
          "name": "stderr",
          "output_type": "stream",
          "text": [
            "ERROR:root:Error occurred: Division by zero. division by zero\n"
          ]
        },
        {
          "name": "stdout",
          "output_type": "stream",
          "text": [
            "5.0\n",
            "None\n",
            "Check 'app.log' for logged messages.\n"
          ]
        }
      ],
      "source": [
        "#14 Write a program that uses the logging module to log both informational and error messages?\n",
        "import logging\n",
        "\n",
        "# Configure logging\n",
        "logging.basicConfig(\n",
        "    filename=\"app.log\",           # Log file\n",
        "    level=logging.DEBUG,          # Capture INFO and ERROR\n",
        "    format=\"%(asctime)s - %(levelname)s - %(message)s\"\n",
        ")\n",
        "\n",
        "def divide(a, b):\n",
        "    try:\n",
        "        result = a / b\n",
        "        logging.info(\"Division successful: %s / %s = %s\", a, b, result)\n",
        "        return result\n",
        "    except ZeroDivisionError as e:\n",
        "        logging.error(\"Error occurred: Division by zero. %s\", e)\n",
        "        return None\n",
        "\n",
        "# Example runs\n",
        "print(divide(10, 2))   # Logs INFO\n",
        "print(divide(10, 0))   # Logs ERROR\n",
        "\n",
        "print(\"Check 'app.log' for logged messages.\")\n"
      ]
    },
    {
      "cell_type": "code",
      "execution_count": null,
      "metadata": {
        "colab": {
          "base_uri": "https://localhost:8080/"
        },
        "id": "bymtVIOz2iop",
        "outputId": "7edc5b69-3b7b-49d6-b1c4-48b0352b2552"
      },
      "outputs": [
        {
          "name": "stdout",
          "output_type": "stream",
          "text": [
            "Error: The file 'sample.txr' does not exist.\n"
          ]
        }
      ],
      "source": [
        "#15 Write a Python program that prints the content of a file and handles the case when the file is empty\n",
        "def read_file(filename):\n",
        "    try:\n",
        "        with open(filename, \"r\") as f:\n",
        "            content = f.read()   # Read the entire file\n",
        "\n",
        "            if content.strip() == \"\":   # Check if empty (ignoring spaces/newlines)\n",
        "                print(\"The file is empty.\")\n",
        "            else:\n",
        "                print(\"File content:\\n\")\n",
        "                print(content)\n",
        "    except FileNotFoundError:\n",
        "        print(f\"Error: The file '{filename}' does not exist.\")\n",
        "\n",
        "# Example usage\n",
        "read_file(\"sample.txr\")\n"
      ]
    },
    {
      "cell_type": "code",
      "execution_count": null,
      "metadata": {
        "colab": {
          "base_uri": "https://localhost:8080/",
          "height": 219
        },
        "id": "qSlAoplF3Y-G",
        "outputId": "723f65dc-50fd-48a3-c1d2-5de2f1589448"
      },
      "outputs": [
        {
          "ename": "NameError",
          "evalue": "name 'profile' is not defined",
          "output_type": "error",
          "traceback": [
            "\u001b[0;31m---------------------------------------------------------------------------\u001b[0m",
            "\u001b[0;31mNameError\u001b[0m                                 Traceback (most recent call last)",
            "\u001b[0;32m/tmp/ipython-input-2072534492.py\u001b[0m in \u001b[0;36m<cell line: 0>\u001b[0;34m()\u001b[0m\n\u001b[1;32m      2\u001b[0m \u001b[0;31m# save this file as demo_memory.py\u001b[0m\u001b[0;34m\u001b[0m\u001b[0;34m\u001b[0m\u001b[0m\n\u001b[1;32m      3\u001b[0m \u001b[0;34m\u001b[0m\u001b[0m\n\u001b[0;32m----> 4\u001b[0;31m \u001b[0;34m@\u001b[0m\u001b[0mprofile\u001b[0m\u001b[0;34m\u001b[0m\u001b[0;34m\u001b[0m\u001b[0m\n\u001b[0m\u001b[1;32m      5\u001b[0m \u001b[0;32mdef\u001b[0m \u001b[0mcreate_list\u001b[0m\u001b[0;34m(\u001b[0m\u001b[0;34m)\u001b[0m\u001b[0;34m:\u001b[0m\u001b[0;34m\u001b[0m\u001b[0;34m\u001b[0m\u001b[0m\n\u001b[1;32m      6\u001b[0m     \u001b[0;31m# Creates a large list to test memory usage\u001b[0m\u001b[0;34m\u001b[0m\u001b[0;34m\u001b[0m\u001b[0m\n",
            "\u001b[0;31mNameError\u001b[0m: name 'profile' is not defined"
          ]
        }
      ],
      "source": [
        "#16 Demonstrate how to use memory profiling to check the memory usage of a small program?\n",
        "# save this file as demo_memory.py\n",
        "\n",
        "@Profile\n",
        "def create_list():\n",
        "    # Creates a large list to test memory usage\n",
        "    data = [i for i in range(1000000)]\n",
        "    return data\n",
        "\n",
        "if __name__ == \"__main__\":\n",
        "    create_list()\n"
      ]
    },
    {
      "cell_type": "code",
      "execution_count": null,
      "metadata": {
        "colab": {
          "base_uri": "https://localhost:8080/"
        },
        "id": "Z6jlOkyp4VBG",
        "outputId": "ddb4486d-8fe7-4c9d-de36-0ebfe9bde294"
      },
      "outputs": [
        {
          "name": "stdout",
          "output_type": "stream",
          "text": [
            "Numbers written to numbers.txt\n"
          ]
        }
      ],
      "source": [
        "#17 Write a Python program to create and write a list of numbers to a file, one number per line?\n",
        "def write_numbers_to_file(filename):\n",
        "    numbers = [1, 2, 3, 4, 5, 6, 7, 8, 9, 10]  # List of numbers\n",
        "\n",
        "    with open(filename, \"w\") as f:   # Open file in write mode\n",
        "        for num in numbers:\n",
        "            f.write(str(num) + \"\\n\")   # Write each number on a new line\n",
        "\n",
        "    print(f\"Numbers written to {filename}\")\n",
        "\n",
        "# Example usage\n",
        "write_numbers_to_file(\"numbers.txt\")\n"
      ]
    },
    {
      "cell_type": "code",
      "execution_count": 2,
      "metadata": {
        "colab": {
          "base_uri": "https://localhost:8080/"
        },
        "id": "GXBwL-yX4lIQ",
        "outputId": "26494e64-6a53-45af-d75b-97d6c9dfb2ee"
      },
      "outputs": [
        {
          "output_type": "stream",
          "name": "stderr",
          "text": [
            "INFO:my_logger:Log message 0\n",
            "INFO:my_logger:Log message 1\n",
            "INFO:my_logger:Log message 2\n",
            "INFO:my_logger:Log message 3\n",
            "INFO:my_logger:Log message 4\n",
            "INFO:my_logger:Log message 5\n",
            "INFO:my_logger:Log message 6\n",
            "INFO:my_logger:Log message 7\n",
            "INFO:my_logger:Log message 8\n",
            "INFO:my_logger:Log message 9\n"
          ]
        }
      ],
      "source": [
        "#18 How would you implement a basic logging setup that logs to a file with rotation after 1MB?\n",
        "import logging\n",
        "from logging.handlers import RotatingFileHandler\n",
        "\n",
        "# Configure logger\n",
        "logger = logging.getLogger(\"my_logger\")\n",
        "logger.setLevel(logging.DEBUG)\n",
        "\n",
        "# Create RotatingFileHandler\n",
        "handler = RotatingFileHandler(\n",
        "    \"app.log\",        # Log file name\n",
        "    maxBytes=1_000_000,  # 1 MB = 1,000,000 bytes\n",
        "    backupCount=3       # Keep last 3 log files as backup\n",
        ")\n",
        "\n",
        "# Set log format\n",
        "formatter = logging.Formatter(\"%(asctime)s - %(levelname)s - %(message)s\")\n",
        "handler.setFormatter(formatter)\n",
        "\n",
        "# Add handler to logger\n",
        "logger.addHandler(handler)\n",
        "\n",
        "# Example: Generate some logs\n",
        "for i in range(10):\n",
        "    logger.info(f\"Log message {i}\")\n"
      ]
    },
    {
      "cell_type": "code",
      "source": [
        "#19  Write a program that handles both IndexError and KeyError using a try-except block\n",
        "def handle_errors():\n",
        "    my_list = [10, 20, 30]\n",
        "    my_dict = {\"a\": 1, \"b\": 2}\n",
        "\n",
        "    try:\n",
        "        # Cause IndexError (list index out of range)\n",
        "        print(\"List item:\", my_list[5])\n",
        "\n",
        "        # Cause KeyError (key not found in dictionary)\n",
        "        print(\"Dictionary value:\", my_dict[\"z\"])\n",
        "\n",
        "    except IndexError as e:\n",
        "        print(\"IndexError occurred:\", e)\n",
        "\n",
        "    except KeyError as e:\n",
        "        print(\"KeyError occurred:\", e)\n",
        "\n",
        "\n",
        "# Run the function\n",
        "handle_errors()\n"
      ],
      "metadata": {
        "colab": {
          "base_uri": "https://localhost:8080/"
        },
        "id": "vyOUojwW6FrG",
        "outputId": "7ffa3ba5-0345-4d36-daa8-0c7f89f5ca51"
      },
      "execution_count": 3,
      "outputs": [
        {
          "output_type": "stream",
          "name": "stdout",
          "text": [
            "IndexError occurred: list index out of range\n"
          ]
        }
      ]
    },
    {
      "cell_type": "code",
      "source": [
        "#20 How would you open a file and read its contents using a context manager in Python\n",
        "# Open and read file using context manager\n",
        "filename = \"example.txt\"\n",
        "\n",
        "with open(filename, \"r\") as f:\n",
        "    content = f.read()   # Read the entire file\n",
        "    print(\"File content:\\n\")\n",
        "    print(content)\n"
      ],
      "metadata": {
        "colab": {
          "base_uri": "https://localhost:8080/"
        },
        "id": "bi4xBIk86VPg",
        "outputId": "948718a3-0716-4d8e-a189-fc976db7ee7d"
      },
      "execution_count": 5,
      "outputs": [
        {
          "output_type": "stream",
          "name": "stdout",
          "text": [
            "File content:\n",
            "\n",
            "Hello world\n",
            "How are youThis is a new lineThis is a new line\n",
            "This is a new line added at the end.This is a new line\n",
            "This is a new line added at the end.\n",
            "\n"
          ]
        }
      ]
    },
    {
      "cell_type": "code",
      "source": [
        "#21 Write a Python program that reads a file and prints the number of occurrences of a specific word\n",
        "def count_word_in_file(filename, word):\n",
        "    try:\n",
        "        with open(filename, \"r\") as f:\n",
        "            content = f.read().lower()  # Read content and convert to lowercase\n",
        "            word = word.lower()         # Make the search case-insensitive\n",
        "            count = content.split().count(word)  # Count occurrences\n",
        "        print(f\"The word '{word}' occurs {count} times in the file.\")\n",
        "    except FileNotFoundError:\n",
        "        print(f\"Error: The file '{filename}' does not exist.\")\n",
        "\n",
        "# Example usage\n",
        "count_word_in_file(\"sample.txt\", \"Python\")\n"
      ],
      "metadata": {
        "colab": {
          "base_uri": "https://localhost:8080/"
        },
        "id": "LnKN08wW6mvN",
        "outputId": "3426cf2b-5fcd-4b5f-c8e4-69a4334a4ce7"
      },
      "execution_count": 6,
      "outputs": [
        {
          "output_type": "stream",
          "name": "stdout",
          "text": [
            "Error: The file 'sample.txt' does not exist.\n"
          ]
        }
      ]
    },
    {
      "cell_type": "code",
      "source": [
        "#22 How can you check if a file is empty before attempting to read its contents?\n",
        "import os\n",
        "\n",
        "def read_file_if_not_empty(filename):\n",
        "    if not os.path.exists(filename):\n",
        "        print(f\"Error: The file '{filename}' does not exist.\")\n",
        "        return\n",
        "\n",
        "    if os.path.getsize(filename) == 0:\n",
        "        print(\"The file is empty.\")\n",
        "    else:\n",
        "        with open(filename, \"r\") as f:\n",
        "            content = f.read()\n",
        "            print(\"File content:\\n\")\n",
        "            print(content)\n",
        "\n",
        "# Example usage\n",
        "read_file_if_not_empty(\"sample.txt\")\n"
      ],
      "metadata": {
        "colab": {
          "base_uri": "https://localhost:8080/"
        },
        "id": "YB0R2BHO60o-",
        "outputId": "a77b2218-6a92-4779-bd98-9e3594d2819d"
      },
      "execution_count": 7,
      "outputs": [
        {
          "output_type": "stream",
          "name": "stdout",
          "text": [
            "Error: The file 'sample.txt' does not exist.\n"
          ]
        }
      ]
    },
    {
      "cell_type": "code",
      "source": [
        "#23 Write a Python program that writes to a log file when an error occurs during file handling.\n",
        "import logging\n",
        "\n",
        "# Configure logging\n",
        "logging.basicConfig(\n",
        "    filename=\"file_errors.log\",       # Log file name\n",
        "    level=logging.ERROR,              # Only log errors\n",
        "    format=\"%(asctime)s - %(levelname)s - %(message)s\"\n",
        ")\n",
        "\n",
        "def read_file(filename):\n",
        "    try:\n",
        "        with open(filename, \"r\") as f:\n",
        "            content = f.read()\n",
        "            print(\"File content:\\n\")\n",
        "            print(content)\n",
        "    except FileNotFoundError as e:\n",
        "        logging.error(\"FileNotFoundError: %s\", e)\n",
        "        print(f\"Error: The file '{filename}' does not exist.\")\n",
        "    except IOError as e:\n",
        "        logging.error(\"IOError: %s\", e)\n",
        "        print(f\"Error: Cannot read the file '{filename}'.\")\n",
        "\n",
        "# Example usage\n",
        "read_file(\"sample.txt\")\n"
      ],
      "metadata": {
        "colab": {
          "base_uri": "https://localhost:8080/"
        },
        "id": "DkbBC6z87BXJ",
        "outputId": "8b04af01-0447-49a4-9f5b-a279bcd2d1ea"
      },
      "execution_count": 8,
      "outputs": [
        {
          "output_type": "stream",
          "name": "stderr",
          "text": [
            "ERROR:root:FileNotFoundError: [Errno 2] No such file or directory: 'sample.txt'\n"
          ]
        },
        {
          "output_type": "stream",
          "name": "stdout",
          "text": [
            "Error: The file 'sample.txt' does not exist.\n"
          ]
        }
      ]
    },
    {
      "cell_type": "markdown",
      "source": [
        "**Thankyou**"
      ],
      "metadata": {
        "id": "kVHXwnD47L2J"
      }
    }
  ],
  "metadata": {
    "colab": {
      "provenance": []
    },
    "kernelspec": {
      "display_name": "Python 3",
      "name": "python3"
    },
    "language_info": {
      "name": "python"
    }
  },
  "nbformat": 4,
  "nbformat_minor": 0
}